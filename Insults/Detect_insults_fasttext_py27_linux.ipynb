{
 "cells": [
  {
   "cell_type": "markdown",
   "metadata": {},
   "source": [
    "### Libraries"
   ]
  },
  {
   "cell_type": "code",
   "execution_count": 1,
   "metadata": {
    "collapsed": true
   },
   "outputs": [],
   "source": [
    "import fasttext\n",
    "import numpy as np\n",
    "from sklearn.metrics import roc_auc_score\n",
    "import pandas as pd"
   ]
  },
  {
   "cell_type": "markdown",
   "metadata": {},
   "source": [
    "### Run fasttext training on preprocessed data"
   ]
  },
  {
   "cell_type": "code",
   "execution_count": 2,
   "metadata": {
    "collapsed": true
   },
   "outputs": [],
   "source": [
    "cls = fasttext.supervised(\"./train.txt\", \"./model\")"
   ]
  },
  {
   "cell_type": "markdown",
   "metadata": {},
   "source": [
    "### Try to predict labels and predict probabilities"
   ]
  },
  {
   "cell_type": "code",
   "execution_count": 3,
   "metadata": {
    "collapsed": false,
    "scrolled": true
   },
   "outputs": [
    {
     "name": "stdout",
     "output_type": "stream",
     "text": [
      "[[u'1'], [u'0']]\n",
      "[[(u'1', 0.96875)], [(u'0', 0.742188)]]\n"
     ]
    }
   ],
   "source": [
    "texts = ['fuck you', 'we are fucking amazing guys']\n",
    "labels = cls.predict(texts)\n",
    "print (labels)\n",
    "\n",
    "# Or with the probability\n",
    "labels = cls.predict_proba(texts)\n",
    "print (labels)"
   ]
  },
  {
   "cell_type": "markdown",
   "metadata": {},
   "source": [
    "### Run fasttext on validation preprocessed data tuning parameters"
   ]
  },
  {
   "cell_type": "code",
   "execution_count": 4,
   "metadata": {
    "collapsed": false,
    "scrolled": true
   },
   "outputs": [
    {
     "name": "stdout",
     "output_type": "stream",
     "text": [
      "Learning rate = 0.010000, Number of epochs = 10\n",
      "ROC_AUC_SCORE: 0.52732471668\n",
      "Learning rate = 0.010000, Number of epochs = 20\n",
      "ROC_AUC_SCORE: 0.666561432426\n",
      "Learning rate = 0.010000, Number of epochs = 50\n",
      "ROC_AUC_SCORE: 0.748745312461\n",
      "Learning rate = 0.010000, Number of epochs = 100\n",
      "ROC_AUC_SCORE: 0.760897467141\n",
      "Learning rate = 0.100000, Number of epochs = 10\n",
      "ROC_AUC_SCORE: 0.758917586451\n",
      "Learning rate = 0.100000, Number of epochs = 20\n",
      "ROC_AUC_SCORE: 0.770209774304\n",
      "Learning rate = 0.100000, Number of epochs = 50\n",
      "ROC_AUC_SCORE: 0.768212908438\n",
      "Learning rate = 0.100000, Number of epochs = 100\n",
      "ROC_AUC_SCORE: 0.761463516581\n",
      "Learning rate = 1.000000, Number of epochs = 10\n",
      "ROC_AUC_SCORE: 0.769446179886\n",
      "Learning rate = 1.000000, Number of epochs = 20\n",
      "ROC_AUC_SCORE: 0.760695860491\n",
      "Learning rate = 1.000000, Number of epochs = 50\n",
      "ROC_AUC_SCORE: 0.757625236131\n",
      "Learning rate = 1.000000, Number of epochs = 100\n",
      "ROC_AUC_SCORE: 0.76041892828\n"
     ]
    }
   ],
   "source": [
    "for lr_ in [0.01, 0.1, 1.]:\n",
    "    for epoch_ in [10, 20, 50, 100]:\n",
    "        print ('Learning rate = %f, Number of epochs = %d' % (lr_, epoch_))\n",
    "        cls = fasttext.supervised(\"./train.txt\", \"./model\", lr=lr_, epoch=epoch_, loss='softmax')\n",
    "\n",
    "        labels = []\n",
    "        true_labels = []\n",
    "        with open('./valid.txt', 'r') as f:\n",
    "            for line in f:\n",
    "                true_labels.append(int(line[9]))\n",
    "                labels.append(cls.predict([line[11:]]))\n",
    "\n",
    "        labels_ = np.concatenate(labels)\n",
    "        labels_ = np.concatenate(labels_)\n",
    "        labels = np.asarray(labels_).astype('int')\n",
    "        true_labels = np.asarray(true_labels)\n",
    "        print 'ROC_AUC_SCORE:',roc_auc_score(true_labels, labels)"
   ]
  },
  {
   "cell_type": "markdown",
   "metadata": {},
   "source": [
    "### Run fasttext on test preprocessed data for the best parameters"
   ]
  },
  {
   "cell_type": "code",
   "execution_count": 6,
   "metadata": {
    "collapsed": false
   },
   "outputs": [],
   "source": [
    "cls = fasttext.supervised(\"./train.txt\", \"./model\", lr=0.1, epoch=20, loss='softmax')\n",
    "\n",
    "labels = []\n",
    "with open('./test.txt', 'r') as f:\n",
    "    for line in f:\n",
    "        labels.append(cls.predict([line[:-1]]))\n",
    "\n",
    "labels_ = np.concatenate(labels)\n",
    "labels_ = np.concatenate(labels_)\n",
    "test_labels = np.asarray(labels_).astype('int')"
   ]
  },
  {
   "cell_type": "markdown",
   "metadata": {},
   "source": [
    "### Write the result to the required submission form"
   ]
  },
  {
   "cell_type": "code",
   "execution_count": 7,
   "metadata": {
    "collapsed": false
   },
   "outputs": [
    {
     "data": {
      "text/html": [
       "<div>\n",
       "<table border=\"1\" class=\"dataframe\">\n",
       "  <thead>\n",
       "    <tr style=\"text-align: right;\">\n",
       "      <th></th>\n",
       "      <th>id</th>\n",
       "      <th>Date</th>\n",
       "      <th>Comment</th>\n",
       "    </tr>\n",
       "  </thead>\n",
       "  <tbody>\n",
       "    <tr>\n",
       "      <th>0</th>\n",
       "      <td>1</td>\n",
       "      <td>20120603163526Z</td>\n",
       "      <td>\"like this if you are a tribe fan\"</td>\n",
       "    </tr>\n",
       "    <tr>\n",
       "      <th>1</th>\n",
       "      <td>2</td>\n",
       "      <td>20120531215447Z</td>\n",
       "      <td>\"you're idiot.......................\"</td>\n",
       "    </tr>\n",
       "    <tr>\n",
       "      <th>2</th>\n",
       "      <td>3</td>\n",
       "      <td>20120823164228Z</td>\n",
       "      <td>\"I am a woman Babs, and the only \"war on women...</td>\n",
       "    </tr>\n",
       "    <tr>\n",
       "      <th>3</th>\n",
       "      <td>4</td>\n",
       "      <td>20120826010752Z</td>\n",
       "      <td>\"WOW &amp; YOU BENEFITTED SO MANY WINS THIS YEAR F...</td>\n",
       "    </tr>\n",
       "    <tr>\n",
       "      <th>4</th>\n",
       "      <td>5</td>\n",
       "      <td>20120602223825Z</td>\n",
       "      <td>\"haha green me red you now loser whos winning ...</td>\n",
       "    </tr>\n",
       "  </tbody>\n",
       "</table>\n",
       "</div>"
      ],
      "text/plain": [
       "   id             Date                                            Comment\n",
       "0   1  20120603163526Z                 \"like this if you are a tribe fan\"\n",
       "1   2  20120531215447Z              \"you're idiot.......................\"\n",
       "2   3  20120823164228Z  \"I am a woman Babs, and the only \"war on women...\n",
       "3   4  20120826010752Z  \"WOW & YOU BENEFITTED SO MANY WINS THIS YEAR F...\n",
       "4   5  20120602223825Z  \"haha green me red you now loser whos winning ..."
      ]
     },
     "execution_count": 7,
     "metadata": {},
     "output_type": "execute_result"
    }
   ],
   "source": [
    "filename = './test.csv'\n",
    "test_data_ = pd.read_csv(filename)\n",
    "test_data_.head()"
   ]
  },
  {
   "cell_type": "code",
   "execution_count": 8,
   "metadata": {
    "collapsed": false
   },
   "outputs": [
    {
     "data": {
      "text/html": [
       "<div>\n",
       "<table border=\"1\" class=\"dataframe\">\n",
       "  <thead>\n",
       "    <tr style=\"text-align: right;\">\n",
       "      <th></th>\n",
       "      <th>Insult</th>\n",
       "      <th>Date</th>\n",
       "      <th>Comment</th>\n",
       "    </tr>\n",
       "  </thead>\n",
       "  <tbody>\n",
       "    <tr>\n",
       "      <th>0</th>\n",
       "      <td>0</td>\n",
       "      <td>20120603163526Z</td>\n",
       "      <td>\"like this if you are a tribe fan\"</td>\n",
       "    </tr>\n",
       "    <tr>\n",
       "      <th>1</th>\n",
       "      <td>1</td>\n",
       "      <td>20120531215447Z</td>\n",
       "      <td>\"you're idiot.......................\"</td>\n",
       "    </tr>\n",
       "    <tr>\n",
       "      <th>2</th>\n",
       "      <td>0</td>\n",
       "      <td>20120823164228Z</td>\n",
       "      <td>\"I am a woman Babs, and the only \"war on women...</td>\n",
       "    </tr>\n",
       "    <tr>\n",
       "      <th>3</th>\n",
       "      <td>0</td>\n",
       "      <td>20120826010752Z</td>\n",
       "      <td>\"WOW &amp; YOU BENEFITTED SO MANY WINS THIS YEAR F...</td>\n",
       "    </tr>\n",
       "    <tr>\n",
       "      <th>4</th>\n",
       "      <td>1</td>\n",
       "      <td>20120602223825Z</td>\n",
       "      <td>\"haha green me red you now loser whos winning ...</td>\n",
       "    </tr>\n",
       "  </tbody>\n",
       "</table>\n",
       "</div>"
      ],
      "text/plain": [
       "   Insult             Date                                            Comment\n",
       "0       0  20120603163526Z                 \"like this if you are a tribe fan\"\n",
       "1       1  20120531215447Z              \"you're idiot.......................\"\n",
       "2       0  20120823164228Z  \"I am a woman Babs, and the only \"war on women...\n",
       "3       0  20120826010752Z  \"WOW & YOU BENEFITTED SO MANY WINS THIS YEAR F...\n",
       "4       1  20120602223825Z  \"haha green me red you now loser whos winning ..."
      ]
     },
     "execution_count": 8,
     "metadata": {},
     "output_type": "execute_result"
    }
   ],
   "source": [
    "test_data_ = test_data_.drop('id', axis=1)\n",
    "test_data_.insert(loc=0, column='Insult', value=test_labels)\n",
    "test_data_.head()"
   ]
  },
  {
   "cell_type": "code",
   "execution_count": 9,
   "metadata": {
    "collapsed": true
   },
   "outputs": [],
   "source": [
    "test_data_.to_csv('./insult_subm_v3.csv', index=False)"
   ]
  },
  {
   "cell_type": "code",
   "execution_count": null,
   "metadata": {
    "collapsed": true
   },
   "outputs": [],
   "source": []
  }
 ],
 "metadata": {
  "kernelspec": {
   "display_name": "Python 2",
   "language": "python",
   "name": "python2"
  },
  "language_info": {
   "codemirror_mode": {
    "name": "ipython",
    "version": 2
   },
   "file_extension": ".py",
   "mimetype": "text/x-python",
   "name": "python",
   "nbconvert_exporter": "python",
   "pygments_lexer": "ipython2",
   "version": "2.7.13"
  }
 },
 "nbformat": 4,
 "nbformat_minor": 0
}
