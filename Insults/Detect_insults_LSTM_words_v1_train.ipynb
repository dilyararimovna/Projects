{
 "cells": [
  {
   "cell_type": "markdown",
   "metadata": {},
   "source": [
    "### Libraries"
   ]
  },
  {
   "cell_type": "code",
   "execution_count": 1,
   "metadata": {
    "collapsed": true
   },
   "outputs": [],
   "source": [
    "import os\n",
    "import numpy as np\n",
    "import random\n",
    "import tensorflow as tf\n",
    "import matplotlib.pyplot as plt\n",
    "import datetime\n",
    "import pandas as pd\n",
    "import re\n",
    "import collections\n",
    "import string\n",
    "import math\n",
    "%matplotlib inline"
   ]
  },
  {
   "cell_type": "markdown",
   "metadata": {},
   "source": [
    "### Read data"
   ]
  },
  {
   "cell_type": "code",
   "execution_count": 2,
   "metadata": {
    "collapsed": false
   },
   "outputs": [
    {
     "name": "stdout",
     "output_type": "stream",
     "text": [
      "Data size: 3947\n"
     ]
    },
    {
     "data": {
      "text/html": [
       "<div>\n",
       "<style>\n",
       "    .dataframe thead tr:only-child th {\n",
       "        text-align: right;\n",
       "    }\n",
       "\n",
       "    .dataframe thead th {\n",
       "        text-align: left;\n",
       "    }\n",
       "\n",
       "    .dataframe tbody tr th {\n",
       "        vertical-align: top;\n",
       "    }\n",
       "</style>\n",
       "<table border=\"1\" class=\"dataframe\">\n",
       "  <thead>\n",
       "    <tr style=\"text-align: right;\">\n",
       "      <th></th>\n",
       "      <th>Insult</th>\n",
       "      <th>Date</th>\n",
       "      <th>Comment</th>\n",
       "    </tr>\n",
       "  </thead>\n",
       "  <tbody>\n",
       "    <tr>\n",
       "      <th>0</th>\n",
       "      <td>1</td>\n",
       "      <td>20120618192155Z</td>\n",
       "      <td>you fuck your dad</td>\n",
       "    </tr>\n",
       "    <tr>\n",
       "      <th>1</th>\n",
       "      <td>0</td>\n",
       "      <td>20120528192215Z</td>\n",
       "      <td>i really do not understand your point xa it se...</td>\n",
       "    </tr>\n",
       "    <tr>\n",
       "      <th>2</th>\n",
       "      <td>0</td>\n",
       "      <td>NaN</td>\n",
       "      <td>a xc xa majority of canadians can and has been...</td>\n",
       "    </tr>\n",
       "    <tr>\n",
       "      <th>3</th>\n",
       "      <td>0</td>\n",
       "      <td>NaN</td>\n",
       "      <td>listen if you dont wanna get married to a man ...</td>\n",
       "    </tr>\n",
       "    <tr>\n",
       "      <th>4</th>\n",
       "      <td>0</td>\n",
       "      <td>20120619094753Z</td>\n",
       "      <td>c xe c b u ea n xu u ed ng u u b u eddng bi u ...</td>\n",
       "    </tr>\n",
       "  </tbody>\n",
       "</table>\n",
       "</div>"
      ],
      "text/plain": [
       "   Insult             Date                                            Comment\n",
       "0       1  20120618192155Z                                  you fuck your dad\n",
       "1       0  20120528192215Z  i really do not understand your point xa it se...\n",
       "2       0              NaN  a xc xa majority of canadians can and has been...\n",
       "3       0              NaN  listen if you dont wanna get married to a man ...\n",
       "4       0  20120619094753Z  c xe c b u ea n xu u ed ng u u b u eddng bi u ..."
      ]
     },
     "execution_count": 2,
     "metadata": {},
     "output_type": "execute_result"
    }
   ],
   "source": [
    "filename = './data/prepr_train.csv'\n",
    "train_data_ = pd.read_csv(filename)\n",
    "print ('Data size:', len(train_data_))\n",
    "train_data_.head()"
   ]
  },
  {
   "cell_type": "code",
   "execution_count": 3,
   "metadata": {
    "collapsed": false
   },
   "outputs": [
    {
     "name": "stdout",
     "output_type": "stream",
     "text": [
      "Data size: 2647\n"
     ]
    },
    {
     "data": {
      "text/html": [
       "<div>\n",
       "<style>\n",
       "    .dataframe thead tr:only-child th {\n",
       "        text-align: right;\n",
       "    }\n",
       "\n",
       "    .dataframe thead th {\n",
       "        text-align: left;\n",
       "    }\n",
       "\n",
       "    .dataframe tbody tr th {\n",
       "        vertical-align: top;\n",
       "    }\n",
       "</style>\n",
       "<table border=\"1\" class=\"dataframe\">\n",
       "  <thead>\n",
       "    <tr style=\"text-align: right;\">\n",
       "      <th></th>\n",
       "      <th>Insult</th>\n",
       "      <th>Date</th>\n",
       "      <th>Comment</th>\n",
       "      <th>Usage</th>\n",
       "    </tr>\n",
       "  </thead>\n",
       "  <tbody>\n",
       "    <tr>\n",
       "      <th>0</th>\n",
       "      <td>0</td>\n",
       "      <td>NaN</td>\n",
       "      <td>the drudge report n n n nyou wo not see this s...</td>\n",
       "      <td>PublicTest</td>\n",
       "    </tr>\n",
       "    <tr>\n",
       "      <th>1</th>\n",
       "      <td>0</td>\n",
       "      <td>20120618222256Z</td>\n",
       "      <td>ian xa roger clemens is the fucking man and ne...</td>\n",
       "      <td>PublicTest</td>\n",
       "    </tr>\n",
       "    <tr>\n",
       "      <th>2</th>\n",
       "      <td>1</td>\n",
       "      <td>20120618213617Z</td>\n",
       "      <td>agree with alan you are an extremest idiot you...</td>\n",
       "      <td>PublicTest</td>\n",
       "    </tr>\n",
       "    <tr>\n",
       "      <th>3</th>\n",
       "      <td>0</td>\n",
       "      <td>NaN</td>\n",
       "      <td>really &lt;SIGNS&gt; n ni see marc lamont hill on va...</td>\n",
       "      <td>PrivateTest</td>\n",
       "    </tr>\n",
       "    <tr>\n",
       "      <th>4</th>\n",
       "      <td>0</td>\n",
       "      <td>20120620003825Z</td>\n",
       "      <td>really suck is not the word when many of our n...</td>\n",
       "      <td>PrivateTest</td>\n",
       "    </tr>\n",
       "  </tbody>\n",
       "</table>\n",
       "</div>"
      ],
      "text/plain": [
       "   Insult             Date                                            Comment  \\\n",
       "0       0              NaN  the drudge report n n n nyou wo not see this s...   \n",
       "1       0  20120618222256Z  ian xa roger clemens is the fucking man and ne...   \n",
       "2       1  20120618213617Z  agree with alan you are an extremest idiot you...   \n",
       "3       0              NaN  really <SIGNS> n ni see marc lamont hill on va...   \n",
       "4       0  20120620003825Z  really suck is not the word when many of our n...   \n",
       "\n",
       "         Usage  \n",
       "0   PublicTest  \n",
       "1   PublicTest  \n",
       "2   PublicTest  \n",
       "3  PrivateTest  \n",
       "4  PrivateTest  "
      ]
     },
     "execution_count": 3,
     "metadata": {},
     "output_type": "execute_result"
    }
   ],
   "source": [
    "filename = './data/prepr_valid.csv'\n",
    "valid_data_ = pd.read_csv(filename)\n",
    "print ('Data size:', len(valid_data_))\n",
    "valid_data_.head()"
   ]
  },
  {
   "cell_type": "code",
   "execution_count": 4,
   "metadata": {
    "collapsed": false
   },
   "outputs": [
    {
     "name": "stdout",
     "output_type": "stream",
     "text": [
      "Data size: 2235\n"
     ]
    },
    {
     "data": {
      "text/html": [
       "<div>\n",
       "<style>\n",
       "    .dataframe thead tr:only-child th {\n",
       "        text-align: right;\n",
       "    }\n",
       "\n",
       "    .dataframe thead th {\n",
       "        text-align: left;\n",
       "    }\n",
       "\n",
       "    .dataframe tbody tr th {\n",
       "        vertical-align: top;\n",
       "    }\n",
       "</style>\n",
       "<table border=\"1\" class=\"dataframe\">\n",
       "  <thead>\n",
       "    <tr style=\"text-align: right;\">\n",
       "      <th></th>\n",
       "      <th>Insult</th>\n",
       "      <th>Date</th>\n",
       "      <th>Comment</th>\n",
       "    </tr>\n",
       "  </thead>\n",
       "  <tbody>\n",
       "    <tr>\n",
       "      <th>0</th>\n",
       "      <td>0</td>\n",
       "      <td>20120603163526Z</td>\n",
       "      <td>like this if you are a tribe fan</td>\n",
       "    </tr>\n",
       "    <tr>\n",
       "      <th>1</th>\n",
       "      <td>1</td>\n",
       "      <td>20120531215447Z</td>\n",
       "      <td>you idiot</td>\n",
       "    </tr>\n",
       "    <tr>\n",
       "      <th>2</th>\n",
       "      <td>1</td>\n",
       "      <td>20120823164228Z</td>\n",
       "      <td>i am a woman babs and the only war on women i ...</td>\n",
       "    </tr>\n",
       "    <tr>\n",
       "      <th>3</th>\n",
       "      <td>1</td>\n",
       "      <td>20120826010752Z</td>\n",
       "      <td>wow you benefitted so many wins this year from...</td>\n",
       "    </tr>\n",
       "    <tr>\n",
       "      <th>4</th>\n",
       "      <td>1</td>\n",
       "      <td>20120602223825Z</td>\n",
       "      <td>haha green me red you now loser whos winning n...</td>\n",
       "    </tr>\n",
       "  </tbody>\n",
       "</table>\n",
       "</div>"
      ],
      "text/plain": [
       "   Insult             Date                                            Comment\n",
       "0       0  20120603163526Z                   like this if you are a tribe fan\n",
       "1       1  20120531215447Z                                          you idiot\n",
       "2       1  20120823164228Z  i am a woman babs and the only war on women i ...\n",
       "3       1  20120826010752Z  wow you benefitted so many wins this year from...\n",
       "4       1  20120602223825Z  haha green me red you now loser whos winning n..."
      ]
     },
     "execution_count": 4,
     "metadata": {},
     "output_type": "execute_result"
    }
   ],
   "source": [
    "filename = './data/prepr_test.csv'\n",
    "test_data_ = pd.read_csv(filename)\n",
    "print ('Data size:', len(test_data_))\n",
    "test_data_.head()"
   ]
  },
  {
   "cell_type": "code",
   "execution_count": 5,
   "metadata": {
    "collapsed": false,
    "scrolled": false
   },
   "outputs": [],
   "source": [
    "train_data = train_data_\n",
    "valid_data = valid_data_\n",
    "test_data = test_data_\n",
    "                               \n",
    "valid_size = len(valid_data)\n",
    "train_size = len(train_data)\n",
    "test_size = len(test_data)\n",
    "\n",
    "X_train = train_data['Comment']\n",
    "y_train = train_data['Insult']\n",
    "X_valid = valid_data['Comment']\n",
    "y_valid = valid_data['Insult']\n",
    "X_test = test_data['Comment']\n",
    "y_test = test_data['Insult']"
   ]
  },
  {
   "cell_type": "markdown",
   "metadata": {},
   "source": [
    "### Compose vocabulary"
   ]
  },
  {
   "cell_type": "code",
   "execution_count": 6,
   "metadata": {
    "collapsed": false,
    "scrolled": true
   },
   "outputs": [
    {
     "name": "stdout",
     "output_type": "stream",
     "text": [
      "Length of train data in words: 728927\n",
      "Most common words (+UNK) [['UNK', 0], ['<EOS>', 0], ['<PAD>', 0], ['<SIGNS>', 1747], ('the', 4780)]\n",
      "Sample data [5, 74, 19, 688, 10, 98, 23, 13, 256, 19]\n",
      "Dict: 0\n",
      "Reverse dict: UNK\n",
      "Counter: ['UNK', 0]\n",
      "Data: 5\n",
      "Words: you fuck y\n"
     ]
    }
   ],
   "source": [
    "vocabulary_size = 50000\n",
    "\n",
    "def build_vocabulary(words):\n",
    "    counter_words = collections.Counter(words)\n",
    "    count = [['UNK', -3], ['<EOS>', 0], ['<PAD>', 0], ['<SIGNS>', counter_words['<SIGNS>']]]\n",
    "    count.extend(counter_words.most_common(vocabulary_size - 4))\n",
    "    dictionary = dict()\n",
    "    for word, _ in count:\n",
    "        dictionary[word] = len(dictionary)\n",
    "    data = list()\n",
    "    unk_count = 0\n",
    "    for word in words:\n",
    "        if word in dictionary:\n",
    "            index = dictionary[word]\n",
    "        else:\n",
    "            index = 0\n",
    "            unk_count = unk_count + 1\n",
    "        data.append(index)\n",
    "    count[0][1] = unk_count\n",
    "    reverse_dictionary = dict(zip(dictionary.values(), dictionary.keys())) \n",
    "    return data, count, dictionary, reverse_dictionary\n",
    "\n",
    "words = ' '.join(X_train)\n",
    "print ('Length of train data in words:', len(words))\n",
    "\n",
    "data, count, dictionary, reverse_dictionary = build_vocabulary(words.split(' '))\n",
    "print('Most common words (+UNK)', count[:5])\n",
    "print('Sample data', data[:10])\n",
    "\n",
    "print ('Dict:', dictionary['UNK'])\n",
    "print ('Reverse dict:', reverse_dictionary[0])\n",
    "print ('Counter:', count[dictionary['UNK']])\n",
    "print ('Data:', data[0])\n",
    "print ('Words:', words[:10])\n",
    "del words"
   ]
  },
  {
   "cell_type": "markdown",
   "metadata": {},
   "source": [
    "### Word indexing"
   ]
  },
  {
   "cell_type": "code",
   "execution_count": 7,
   "metadata": {
    "collapsed": true
   },
   "outputs": [],
   "source": [
    "def word2id(word):\n",
    "    if word in dictionary:\n",
    "        return dictionary[word]\n",
    "    else:\n",
    "        return 0 # UNK\n",
    "\n",
    "def id2word(id_):\n",
    "    return reverse_dictionary[id_]\n",
    "\n",
    "\n",
    "def comment2vec(comment):\n",
    "    global comment_size\n",
    "    split = comment.split(' ')\n",
    "    res = np.array([word2id(word) for word in split], dtype='int')\n",
    "    return res\n",
    "\n",
    "def vec2comment(vec):\n",
    "    global comment_size\n",
    "    return ' '.join([id2word(id_) for id_ in vec])\n"
   ]
  },
  {
   "cell_type": "markdown",
   "metadata": {},
   "source": [
    "### Generation of batches"
   ]
  },
  {
   "cell_type": "code",
   "execution_count": 8,
   "metadata": {
    "collapsed": false
   },
   "outputs": [],
   "source": [
    "class LabeledBatchGenerator(object):\n",
    "    def __init__(self, comments, batch_size, comment_size, labels):\n",
    "        self._comments = comments\n",
    "        self._num_comments = len(comments)\n",
    "        self._batch_size = batch_size\n",
    "        self._comment_size = comment_size\n",
    "        self._labels = labels\n",
    "        segment = self._num_comments // batch_size\n",
    "        self._cursor = [offset * segment for offset in range(batch_size)]\n",
    "        \n",
    "    def _next_batch(self, step):\n",
    "        batch = np.zeros(shape=(self._batch_size,1), dtype=np.int)\n",
    "        for b in range(self._batch_size):\n",
    "            comment = comment2vec(self._comments[self._cursor[b]])\n",
    "            N = len(comment)\n",
    "            if step < N:\n",
    "                batch[b,0] = comment[step]\n",
    "            elif step == N:\n",
    "                batch[b,0] = word2id('<EOS>')\n",
    "            elif step > N:\n",
    "                batch[b,0] = word2id('<PAD>')\n",
    "            if step == self._comment_size - 1:\n",
    "                if N > self._comment_size - 1:\n",
    "                    batch[b,0] = word2id('<EOS>')\n",
    "                self._cursor[b] = (self._cursor[b] + 1) % self._num_comments\n",
    "        return batch\n",
    "    \n",
    "    def next(self):\n",
    "        batches = []\n",
    "        batches_labels = [self._labels[self._cursor[b]] for b in range(self._batch_size)]\n",
    "        for step in range(0, self._comment_size):\n",
    "            batches.append(self._next_batch(step))\n",
    "        return batches, batches_labels"
   ]
  },
  {
   "cell_type": "code",
   "execution_count": 9,
   "metadata": {
    "collapsed": false,
    "scrolled": false
   },
   "outputs": [],
   "source": [
    "comment_size = 100\n",
    "batch_size = 64\n",
    "\n",
    "train_batch_generator = LabeledBatchGenerator(X_train.as_matrix(), batch_size, comment_size, y_train.as_matrix())\n",
    "valid_batch_generator = LabeledBatchGenerator(X_valid.as_matrix(), batch_size, comment_size, y_valid.as_matrix())\n",
    "test_batch_generator = LabeledBatchGenerator(X_test.as_matrix(), batch_size, comment_size, y_test.as_matrix())"
   ]
  },
  {
   "cell_type": "code",
   "execution_count": 10,
   "metadata": {
    "collapsed": true
   },
   "outputs": [],
   "source": [
    "def plot_results(losses_, mean_losses_, train_aucs_, valid_aucs_, frequency):\n",
    "    plt.figure(figsize=(18,6))\n",
    "    plt.plot(losses_)\n",
    "    plt.title('Losses')\n",
    "    plt.xlabel('Step')\n",
    "    plt.show()\n",
    "    plt.figure(figsize=(18,6))\n",
    "    plt.plot(frequency * np.arange(1,len(mean_losses_)+1), mean_losses_)\n",
    "    plt.title('MeanLosses')\n",
    "    plt.xlabel('Step')\n",
    "    plt.show()\n",
    "    plt.figure(figsize=(18,6))\n",
    "    plt.plot(train_aucs_, label='Train AUC-ROC')\n",
    "    plt.plot(frequency * np.arange(1,len(valid_aucs_)+1), valid_aucs_, label='Valid AUC-ROC')\n",
    "    plt.xlabel('Step')\n",
    "    plt.title('AUC-ROC')\n",
    "    plt.legend()\n",
    "    plt.show()"
   ]
  },
  {
   "cell_type": "markdown",
   "metadata": {},
   "source": [
    "### Tensorflow graph"
   ]
  },
  {
   "cell_type": "code",
   "execution_count": 11,
   "metadata": {
    "collapsed": false
   },
   "outputs": [
    {
     "name": "stdout",
     "output_type": "stream",
     "text": [
      "After embedding shape: (64, 100, 128)\n",
      "Final encod state shape: (64, 6400)\n",
      "Logits and labels shape: (64, 1) (64, 1)\n",
      "Graph is ready!\n"
     ]
    }
   ],
   "source": [
    "embedding_size = 128\n",
    "num_nodes = 32\n",
    "\n",
    "graph = tf.Graph()\n",
    "with graph.as_default():\n",
    "    tf_data = list()\n",
    "    for _ in range(comment_size):\n",
    "        tf_data.append(tf.placeholder(tf.int32, shape=[batch_size, 1])) \n",
    "    tf_labels = tf.placeholder(tf.float32, shape=[batch_size,1])\n",
    "    \n",
    "    tf_encod_ifcox_forward = tf.Variable(tf.truncated_normal([embedding_size, 4 * num_nodes], -0.1, 0.1), name='x_f')\n",
    "    tf_encod_ifcom_forward = tf.Variable(tf.truncated_normal([num_nodes, 4 * num_nodes], -0.1, 0.1), name='m_f')\n",
    "    tf_encod_ifcob_forward = tf.Variable(tf.zeros([1, 4 * num_nodes]), name='b_f')\n",
    "    tf_encod_saved_output_forward = tf.Variable(tf.fill([batch_size, num_nodes],0.0), \n",
    "                                                trainable=False, validate_shape=False, name='saved_output_f')\n",
    "    tf_encod_saved_state_forward = tf.Variable(tf.fill([batch_size, num_nodes],0.0),\n",
    "                                               trainable=False, validate_shape=False, name='saved_state_f')\n",
    "\n",
    "    tf_encod_ifcox_backward = tf.Variable(tf.truncated_normal([embedding_size, 4 * num_nodes], -0.1, 0.1), name='x_b')\n",
    "    tf_encod_ifcom_backward = tf.Variable(tf.truncated_normal([num_nodes, 4 * num_nodes], -0.1, 0.1), name='m_b')\n",
    "    tf_encod_ifcob_backward = tf.Variable(tf.zeros([1, 4 * num_nodes]), name='b_b')\n",
    "    tf_encod_saved_output_backward = tf.Variable(tf.fill([batch_size, num_nodes], 0.0), \n",
    "                                                 trainable=False, validate_shape=False, name='saved_output_b')\n",
    "    tf_encod_saved_state_backward = tf.Variable(tf.fill([batch_size, num_nodes],0.0), \n",
    "                                                trainable=False, validate_shape=False, name='saved_state_b')\n",
    "\n",
    "    tf_embeddings = tf.Variable(tf.random_uniform([vocabulary_size, embedding_size], -1.0, 1.0), name='embeddings')\n",
    "    tf_keep_prob = tf.placeholder(tf.float32) \n",
    "    \n",
    "    tf_encod_inputs_forward = tf.concat(tf_data[:comment_size], axis=1)\n",
    "    tf_encod_inputs_backward = tf.concat(tf_data[:comment_size], axis=1)[::-1]\n",
    "    tf_embedded_encod_inputs_forward = tf.nn.embedding_lookup(tf_embeddings, tf_encod_inputs_forward) \n",
    "    tf_embedded_encod_inputs_backward = tf.nn.embedding_lookup(tf_embeddings, tf_encod_inputs_backward) \n",
    "    print ('After embedding shape:', tf_embedded_encod_inputs_forward.shape)\n",
    "    \n",
    "    def encod_lstm_cell_forward(tf_i, tf_o, tf_state):\n",
    "        tf_summ = tf.matmul(tf_i, tf_encod_ifcox_forward) + tf.matmul(tf_o, tf_encod_ifcom_forward) + tf_encod_ifcob_forward\n",
    "        tf_state = (tf.sigmoid(tf_summ[:,num_nodes:2*num_nodes]) * tf_state +\n",
    "                 tf.sigmoid(tf_summ[:,:num_nodes]) * tf.tanh(tf_summ[:,2*num_nodes:3*num_nodes]))\n",
    "        return tf.sigmoid(tf_summ[:,3*num_nodes:]) * tf.tanh(tf_state), tf_state\n",
    "    \n",
    "    def encod_lstm_cell_backward(tf_i, tf_o, tf_state):\n",
    "        tf_summ = tf.matmul(tf_i, tf_encod_ifcox_backward) + tf.matmul(tf_o, tf_encod_ifcom_backward) + tf_encod_ifcob_backward\n",
    "        tf_state = (tf.sigmoid(tf_summ[:,num_nodes:2*num_nodes]) * tf_state +\n",
    "                 tf.sigmoid(tf_summ[:,:num_nodes]) * tf.tanh(tf_summ[:,2*num_nodes:3*num_nodes]))\n",
    "        return tf.sigmoid(tf_summ[:,3*num_nodes:]) * tf.tanh(tf_state), tf_state\n",
    "    \n",
    "    def encod_lstm_cell_up(tf_i, tf_o, tf_state):\n",
    "        tf_summ = tf.matmul(tf_i, tf_encod_ifcox_up) + tf.matmul(tf_o, tf_encod_ifcom_up) + tf_encod_ifcob_up\n",
    "        tf_state = (tf.sigmoid(tf_summ[:,num_nodes:2*num_nodes]) * tf_state +\n",
    "                 tf.sigmoid(tf_summ[:,:num_nodes]) * tf.tanh(tf_summ[:,2*num_nodes:3*num_nodes]))\n",
    "        return tf.sigmoid(tf_summ[:,3*num_nodes:]) * tf.tanh(tf_state), tf_state\n",
    "    \n",
    "    tf_encod_states_forward = list()\n",
    "    tf_encod_states_backward = list()\n",
    "\n",
    "    tf_encod_state_forward = tf_encod_saved_state_forward\n",
    "    tf_encod_output_forward = tf_encod_saved_output_forward\n",
    "    \n",
    "    for tf_i in tf.unstack(tf_embedded_encod_inputs_forward, axis=1):#comment_size\n",
    "        tf_encod_output_forward, tf_encod_state_forward = encod_lstm_cell_forward(tf_i, \n",
    "                                                                                  tf_encod_output_forward, \n",
    "                                                                                  tf_encod_state_forward)\n",
    "        #shape is questionable\n",
    "        tf_encod_states_forward.append(tf.reshape(tf_encod_state_forward, shape=[batch_size, num_nodes]))\n",
    "        \n",
    "    tf_encod_state_backward = tf_encod_saved_state_backward\n",
    "    tf_encod_output_backward = tf_encod_saved_output_backward\n",
    "    \n",
    "    for tf_i in tf.unstack(tf_embedded_encod_inputs_backward, axis=1): #comment_size\n",
    "        tf_encod_output_backward, tf_encod_state_backward = encod_lstm_cell_backward(tf_i, \n",
    "                                                                                     tf_encod_output_backward, \n",
    "                                                                                     tf_encod_state_backward)\n",
    "        tf_encod_states_backward.append(tf.reshape(tf_encod_state_backward, shape=[batch_size, num_nodes]))\n",
    "        \n",
    "    tf_encod_inputs_up = tf.concat([tf_encod_states_forward, tf_encod_states_backward], axis=2)\n",
    "\n",
    "    tf_encod_state_up_reshape = []\n",
    "    for tf_i in tf.unstack(tf_encod_inputs_up,axis=1):\n",
    "        tf_encod_state_up_reshape.append(tf.reshape(tf_i, shape=[1,-1]))\n",
    "    tf_encod_states_up = tf.concat(tf_encod_state_up_reshape, axis=0)\n",
    "    print ('Final encod state shape:', tf_encod_states_up.shape)\n",
    "    \n",
    "    with tf.control_dependencies([tf_encod_saved_output_forward.assign(tf_encod_output_forward),\n",
    "                                  tf_encod_saved_output_backward.assign(tf_encod_output_backward),\n",
    "                                  tf_encod_saved_state_forward.assign(tf_encod_state_forward),\n",
    "                                  tf_encod_saved_state_backward.assign(tf_encod_state_backward)]):\n",
    "\n",
    "        tf_logits_ = tf.layers.dense(inputs=tf_encod_states_up, units=num_nodes, \n",
    "                                     activation=None, name='dense1')#kernel_regularizer=tf.nn.l2_loss\n",
    "        tf_logits = tf.layers.dense(inputs=tf_logits_, units=1, activation=None, name='dense2')\n",
    "        print ('Logits and labels shape:', tf_logits.shape, tf_labels.shape)\n",
    "        tf_loss = tf.reduce_mean(tf.nn.sigmoid_cross_entropy_with_logits(\n",
    "                labels=tf_labels, logits=tf_logits))\n",
    "\n",
    "    tf_global_step = tf.Variable(0, name='global_step')\n",
    "    tf_learning_rate = tf.train.exponential_decay(0.0001, tf_global_step, 1000, 0.9, staircase=False)\n",
    "    tf_optimizer = tf.train.AdamOptimizer(tf_learning_rate)\n",
    "    tf_grads = tf_optimizer.compute_gradients(tf_loss)\n",
    "    tf_optimizer = tf_optimizer.apply_gradients(tf_grads, global_step=tf_global_step)\n",
    "\n",
    "    # Predictions.\n",
    "    tf_prediction = tf.round(tf.sigmoid(tf_logits))\n",
    "    tf_auc_roc, tf_update_oper = tf.metrics.auc(tf_labels, tf_prediction)\n",
    "    \n",
    "    saver = tf.train.Saver()\n",
    "    print('Graph is ready!')"
   ]
  },
  {
   "cell_type": "code",
   "execution_count": 72,
   "metadata": {
    "collapsed": false,
    "scrolled": true
   },
   "outputs": [
    {
     "name": "stdout",
     "output_type": "stream",
     "text": [
      "Initialized\n",
      "\n",
      "Step 0\n",
      "True: [0 0 0 0 0 0 0 1 0 1 0 0 0 0 0 1 1 1 1 1 0 1 0 0 0 0 0 0 1 0 1 0 0 1 0 1 0\n",
      " 0 1 1 0 0 0 0 1 0 1 0 1 1 0 0 0 1 0 1 1 0 1 0 0 0 0 0]\n",
      "Pred: [1 1 1 1 1 0 1 1 1 1 1 1 1 1 1 1 1 1 1 1 1 0 1 1 1 1 1 1 1 1 1 1 1 1 1 1 1\n",
      " 1 1 1 1 1 1 1 1 1 1 1 1 1 1 1 1 1 1 1 1 1 1 1 1 1 1 1]\n",
      "Train loss: 0.00108\n",
      "Train batch AUC-ROC: 0.00000 \n",
      "Valid true:      [0 0 1 0 0 0 0 0 1 0 0 1 1 0 0 0 1 0 0 0 0 0 0 1 1 0 0 0 0 1 1 0 0 1 1 0 0\n",
      " 1 0 0 0 0 0 0 0 1 1 0 0 1 1 0 1 0 0 0 0 0 0 0 1 0 0 0 0 0 1 0 1 0 0 0 1 1\n",
      " 0 0 0 0 0 0 0 0 0 0 0 0 0 0 0 0 1 0 0 0 0 0 1 0 0 1]\n",
      "Valid predicted: [1 0 1 1 1 1 1 1 1 1 1 1 1 1 0 1 1 1 1 0 1 1 1 0 1 1 0 1 1 0 0 1 1 1 1 1 1\n",
      " 1 1 0 1 1 1 1 1 1 1 1 1 1 1 1 1 1 0 1 1 1 1 1 1 0 1 1 1 1 1 0 1 0 0 1 1 0\n",
      " 1 1 1 1 1 1 1 1 1 1 1 1 1 1 1 1 1 1 1 1 1 1 1 1 1 1]\n",
      "Validation AUC-ROC:  0.50740\n",
      "\n",
      "Step 1000\n",
      "True: [0 1 0 0 1 0 0 0 1 0 0 0 0 1 1 1 0 1 0 0 1 1 0 0 1 1 0 1 1 1 0 0 0 0 1 1 0\n",
      " 0 1 1 0 0 0 0 1 1 0 0 0 0 0 0 0 1 1 0 0 0 0 0 0 1 1 0]\n",
      "Pred: [0 1 0 1 0 0 0 0 1 0 0 0 0 0 1 1 0 0 1 0 0 1 0 0 0 1 0 0 1 1 0 0 0 0 1 1 0\n",
      " 0 1 1 0 0 0 0 1 1 0 0 0 0 0 0 0 0 1 0 0 0 0 0 0 1 0 0]\n",
      "Train loss: 0.43116\n",
      "Train batch AUC-ROC: 0.66403 \n",
      "Valid true:      [0 1 0 0 0 0 0 1 0 0 1 1 0 0 0 1 0 0 0 0 0 0 1 1 0 0 0 0 1 1 0 0 1 1 0 0 1\n",
      " 0 0 0 0 0 0 0 1 1 0 0 1 1 0 1 0 0 0 0 0 0 0 1 0 0 0 0 0 1 0 1 0 0 0 1 1 0\n",
      " 0 0 0 0 0 0 0 0 0 0 0 0 0 0 0 1 0 0 0 0 0 1 0 0 1 0]\n",
      "Valid predicted: [0 1 0 0 0 0 0 0 0 1 1 1 0 0 0 1 0 0 0 0 0 1 1 0 1 1 0 0 0 0 1 0 1 1 0 0 0\n",
      " 0 1 1 0 0 0 0 0 1 0 0 0 0 1 1 0 0 0 0 0 0 0 1 0 0 0 0 0 1 1 1 0 0 0 1 0 0\n",
      " 0 0 0 0 0 0 0 0 0 0 0 0 1 0 1 0 1 1 1 1 1 0 0 0 0 0]\n",
      "Validation AUC-ROC:  0.66500\n",
      "\n",
      "Step 2000\n",
      "True: [0 0 0 0 1 1 0 0 0 0 0 1 1 1 1 0 0 0 0 1 0 0 1 0 0 0 1 0 1 0 0 1 0 0 0 0 0\n",
      " 0 0 1 1 0 0 1 0 0 1 0 0 1 0 0 0 0 0 0 1 0 0 0 0 0 1 0]\n",
      "Pred: [0 0 0 0 0 1 0 0 0 0 0 1 1 1 1 0 0 0 0 1 0 0 1 0 0 0 1 1 1 0 0 1 0 0 0 0 0\n",
      " 0 0 1 1 0 0 1 0 0 1 0 0 1 0 0 0 0 0 0 1 0 0 0 0 0 1 0]\n",
      "Train loss: 0.20750\n",
      "Train batch AUC-ROC: 0.76834 \n",
      "Valid true:      [1 0 0 0 0 0 1 0 0 1 1 0 0 0 1 0 0 0 0 0 0 1 1 0 0 0 0 1 1 0 0 1 1 0 0 1 0\n",
      " 0 0 0 0 0 0 1 1 0 0 1 1 0 1 0 0 0 0 0 0 0 1 0 0 0 0 0 1 0 1 0 0 0 1 1 0 0\n",
      " 0 0 0 0 0 0 0 0 0 0 0 0 0 0 1 0 0 0 0 0 1 0 0 1 0 0]\n",
      "Valid predicted: [0 0 0 0 0 0 1 0 1 0 1 0 0 0 1 0 0 0 0 0 1 1 0 1 1 0 0 1 0 0 0 1 1 0 0 0 0\n",
      " 0 1 0 0 0 0 0 1 0 0 0 0 1 0 0 0 0 0 0 0 0 1 0 0 0 0 1 1 1 1 0 0 0 1 0 0 0\n",
      " 0 0 0 0 0 0 0 0 0 0 0 1 0 1 0 1 1 0 0 1 0 0 0 0 0 0]\n",
      "Validation AUC-ROC:  0.76679\n",
      "\n",
      "Step 3000\n",
      "True: [0 0 1 0 0 0 0 0 0 1 0 0 0 1 1 0 0 0 0 0 0 1 0 1 0 1 1 1 1 0 0 1 0 0 0 0 0\n",
      " 0 0 0 0 0 1 0 0 0 0 0 0 1 0 0 0 0 1 1 0 0 0 0 0 0 0 0]\n",
      "Pred: [0 0 1 0 0 0 0 0 0 1 0 0 0 1 1 0 0 0 0 0 0 1 0 1 0 1 1 1 1 0 0 1 0 0 0 0 0\n",
      " 0 0 0 0 0 1 0 0 0 0 0 0 1 1 0 0 0 1 1 0 0 0 0 0 0 0 0]\n",
      "Train loss: 0.08769\n",
      "Train batch AUC-ROC: 0.82896 \n",
      "Valid true:      [0 0 0 0 0 1 0 0 1 1 0 0 0 1 0 0 0 0 0 0 1 1 0 0 0 0 1 1 0 0 1 1 0 0 1 0 0\n",
      " 0 0 0 0 0 1 1 0 0 1 1 0 1 0 0 0 0 0 0 0 1 0 0 0 0 0 0 0 1 0 0 0 1 1 0 0 0\n",
      " 0 0 0 0 0 0 0 0 0 0 0 0 0 1 0 0 0 0 0 1 0 0 1 0 0 0]\n",
      "Valid predicted: [0 0 0 0 0 1 0 1 1 1 0 0 0 1 0 0 1 0 0 1 1 0 1 1 0 0 1 0 0 0 1 1 0 0 1 0 1\n",
      " 1 1 0 0 0 1 1 0 0 1 1 1 1 0 0 1 0 0 0 0 1 0 0 0 0 1 0 1 1 0 0 1 1 0 0 1 0\n",
      " 0 0 1 0 0 1 1 0 1 0 1 0 1 0 1 1 1 1 1 0 0 0 0 1 0 1]\n",
      "Validation AUC-ROC:  0.82752\n",
      "\n",
      "Step 4000\n",
      "True: [0 1 0 0 0 0 0 0 0 0 1 0 0 0 1 0 0 0 1 0 0 0 0 0 0 0 0 1 0 1 0 0 0 0 1 0 0\n",
      " 0 1 0 1 0 0 0 1 0 0 0 0 0 1 0 1 0 0 0 0 0 1 0 0 0 0 0]\n",
      "Pred: [0 1 0 0 0 0 0 0 0 0 1 0 0 0 1 0 0 0 1 0 0 0 0 0 0 0 0 1 0 1 0 0 0 0 1 0 0\n",
      " 0 1 0 1 0 0 0 1 0 0 0 0 0 1 0 1 0 0 0 0 0 1 0 0 0 0 0]\n",
      "Train loss: 0.03458\n",
      "Train batch AUC-ROC: 0.86605 \n",
      "Valid true:      [0 0 0 0 1 0 0 1 1 0 0 0 1 0 0 0 0 0 0 1 1 0 0 0 0 1 1 0 0 1 1 0 0 1 0 0 0\n",
      " 0 0 0 0 1 1 0 0 1 1 0 1 0 0 0 0 0 0 0 1 0 0 0 0 0 0 0 1 0 0 0 1 1 0 0 0 0\n",
      " 0 0 0 0 0 0 0 0 0 0 0 0 1 0 0 0 0 0 1 0 0 1 0 0 0 0]\n",
      "Valid predicted: [0 0 0 0 1 0 1 1 1 0 0 0 1 0 0 1 0 0 1 1 0 0 1 0 0 1 0 0 0 1 1 0 0 0 0 0 1\n",
      " 1 0 0 0 0 1 0 0 0 1 1 1 0 0 0 0 0 0 0 1 0 0 0 0 1 0 0 1 0 0 1 1 0 0 1 0 0\n",
      " 0 1 0 0 1 1 0 0 0 1 0 1 0 1 1 0 0 1 0 0 0 0 0 0 1 0]\n",
      "Validation AUC-ROC:  0.86460\n",
      "\n",
      "Step 5000\n",
      "True: [0 1 0 0 0 1 0 1 1 0 0 0 1 0 0 0 0 0 1 0 0 1 0 1 0 1 1 0 0 1 1 0 0 0 1 0 0\n",
      " 0 1 0 1 0 0 1 1 0 0 0 1 0 1 1 1 0 0 0 0 0 0 0 1 0 0 1]\n",
      "Pred: [0 1 0 0 0 1 0 1 1 0 0 0 1 0 0 0 0 0 1 0 0 1 0 1 0 1 1 0 0 1 1 0 0 0 1 0 0\n",
      " 0 1 0 1 0 0 1 1 0 0 0 1 0 1 1 1 0 0 0 0 0 0 0 1 0 0 1]\n",
      "Train loss: 0.01295\n",
      "Train batch AUC-ROC: 0.89009 \n",
      "Valid true:      [0 0 0 1 0 0 1 1 0 0 0 1 0 0 0 0 0 0 1 1 0 0 0 0 1 1 0 0 1 1 0 0 1 0 0 0 0\n",
      " 0 0 0 1 1 0 0 1 1 0 1 0 0 0 0 0 0 0 1 0 0 0 0 0 0 0 1 0 0 0 1 1 0 0 0 0 0\n",
      " 0 0 0 0 0 0 0 0 0 0 0 1 0 0 0 0 0 1 0 0 1 0 0 0 0 0]\n",
      "Valid predicted: [0 0 0 1 0 1 1 1 0 0 0 1 0 0 1 0 0 1 1 0 1 1 0 0 1 0 0 0 1 1 0 0 0 0 0 1 1\n",
      " 0 0 0 0 1 0 0 0 1 1 1 0 0 0 0 0 0 0 1 0 0 0 0 1 0 0 0 0 0 1 1 0 0 1 0 0 0\n",
      " 1 0 0 1 1 0 0 0 1 0 1 0 1 1 0 0 1 0 0 0 0 0 0 1 0 0]\n",
      "Validation AUC-ROC:  0.88878\n",
      "\n",
      "Step 6000\n",
      "True: [0 0 0 0 1 0 0 0 0 0 0 0 0 0 0 0 0 0 0 0 0 0 0 1 1 0 1 0 0 0 0 1 1 0 0 1 1\n",
      " 1 0 1 0 1 1 0 0 1 1 0 0 0 0 0 0 0 0 1 0 0 1 0 0 1 0 0]\n",
      "Pred: [0 0 0 0 1 0 0 0 0 0 0 0 0 0 0 0 0 0 0 0 0 0 0 1 1 0 1 0 0 0 0 1 1 0 0 1 1\n",
      " 1 0 1 0 1 1 0 0 1 1 0 0 0 0 0 0 0 0 1 0 0 1 0 0 1 0 0]\n",
      "Train loss: 0.00565\n",
      "Train batch AUC-ROC: 0.90640 \n",
      "Valid true:      [0 0 1 0 0 1 1 0 0 0 1 0 0 0 0 0 0 1 1 0 0 0 0 1 1 0 0 1 1 0 0 1 0 0 0 0 0\n",
      " 0 0 1 1 0 0 1 1 0 1 0 0 0 0 0 0 0 1 0 0 0 0 0 0 0 1 0 0 0 1 1 0 0 0 0 0 0\n",
      " 0 0 0 0 0 0 0 0 0 0 1 0 0 0 0 0 1 0 0 1 0 0 0 0 0 1]\n",
      "Valid predicted: [0 0 1 0 1 1 1 0 0 0 1 0 0 0 0 1 1 1 0 1 1 0 0 1 0 0 0 0 1 0 0 0 0 0 1 1 0\n",
      " 0 0 0 1 0 0 0 1 1 1 0 0 0 0 0 0 0 1 0 0 0 0 1 0 0 0 0 0 1 1 0 0 1 0 0 0 1\n",
      " 0 0 1 1 0 0 0 1 0 1 0 1 1 0 0 1 0 0 0 0 0 0 1 0 0 1]\n",
      "Validation AUC-ROC:  0.90514\n",
      "\n",
      "Step 7000\n",
      "True: [0 1 0 0 0 0 1 0 1 1 0 0 0 1 0 1 0 1 0 0 1 0 1 0 1 1 1 0 0 0 1 0 0 1 1 0 1\n",
      " 0 0 0 0 0 0 0 0 0 0 0 0 0 1 1 0 0 0 0 0 0 1 0 0 0 0 0]\n",
      "Pred: [0 1 0 0 0 0 1 0 1 1 0 0 0 1 0 1 0 1 0 0 1 0 1 0 1 1 1 0 0 0 1 0 0 1 1 0 1\n",
      " 0 0 0 0 0 0 0 0 0 0 0 0 0 1 1 0 0 0 0 0 0 1 0 0 0 0 0]\n",
      "Train loss: 0.00278\n",
      "Train batch AUC-ROC: 0.91809 \n",
      "Valid true:      [0 1 0 0 1 1 0 0 0 1 0 0 0 0 0 0 1 1 0 0 0 0 1 1 0 0 1 1 0 0 1 0 0 0 0 0 0\n",
      " 0 1 1 0 0 1 1 0 1 0 0 0 0 0 0 0 1 0 0 0 0 0 0 0 1 0 0 0 1 1 0 0 0 0 0 0 0\n",
      " 0 0 0 0 0 0 0 0 0 1 0 0 0 0 0 1 0 0 1 0 0 0 0 0 1 1]\n",
      "Valid predicted: [0 1 0 1 1 1 0 0 0 1 0 0 1 0 1 1 1 0 1 1 0 0 1 0 0 0 1 1 0 0 0 0 0 1 1 0 0\n",
      " 0 0 1 0 0 0 1 1 1 0 0 0 0 0 0 0 1 0 0 0 0 1 0 1 0 0 0 0 1 0 0 0 0 0 0 1 0\n",
      " 0 1 1 0 0 0 1 0 1 0 1 1 0 0 1 0 0 0 0 0 0 1 0 0 1 0]\n",
      "Validation AUC-ROC:  0.91694\n",
      "\n",
      "Step 8000\n",
      "True: [0 0 1 0 1 0 0 1 0 0 1 0 0 1 1 0 0 0 0 0 1 0 0 1 0 0 1 0 0 1 1 0 0 1 0 0 0\n",
      " 0 1 1 0 0 0 0 0 1 0 0 0 0 0 0 0 0 0 0 1 1 1 0 0 0 0 0]\n",
      "Pred: [0 0 1 0 1 0 0 1 0 0 1 0 0 1 1 0 0 0 0 0 1 0 0 1 0 0 1 0 0 1 1 0 0 1 0 0 0\n",
      " 0 1 1 0 0 0 0 0 1 0 0 0 0 0 0 0 0 0 0 1 1 1 0 0 0 0 0]\n",
      "Train loss: 0.00163\n",
      "Train batch AUC-ROC: 0.92682 \n",
      "Valid true:      [1 0 0 1 1 0 0 0 1 0 0 0 0 0 0 1 1 0 0 0 0 1 1 0 0 1 1 0 0 1 0 0 0 0 0 0 0\n",
      " 1 1 0 0 1 1 0 1 0 0 0 0 0 0 0 1 0 0 0 0 0 0 0 1 0 0 0 1 1 0 0 0 0 0 0 0 0\n",
      " 0 0 0 0 0 0 0 0 1 0 0 0 0 0 1 0 0 1 0 0 0 0 0 1 1 0]\n",
      "Valid predicted: [1 0 1 1 1 0 0 0 1 0 0 0 0 1 1 1 0 1 1 0 0 1 0 0 0 1 1 0 0 0 0 0 1 1 0 0 0\n",
      " 0 1 0 0 0 1 1 1 0 0 0 0 0 0 0 1 0 0 0 0 1 0 0 0 0 0 1 1 0 0 0 0 0 0 1 0 0\n",
      " 1 1 0 0 0 1 0 1 0 1 1 0 0 1 0 0 0 0 0 0 1 0 0 1 0 0]\n",
      "Validation AUC-ROC:  0.92577\n",
      "\n",
      "Step 9000\n",
      "True: [0 1 1 1 0 1 1 0 0 0 0 1 0 0 0 0 0 0 0 1 0 0 0 1 0 0 0 0 0 1 0 0 0 0 1 0 0\n",
      " 0 0 0 0 0 1 1 0 0 1 0 0 0 0 0 0 0 0 0 0 1 0 0 0 1 0 0]\n",
      "Pred: [0 1 1 1 0 1 1 0 0 0 0 1 0 0 0 0 0 0 0 1 0 0 0 1 0 0 0 0 0 1 0 0 0 0 1 0 0\n",
      " 0 0 0 0 0 1 1 0 0 1 0 0 0 0 0 0 0 0 0 0 1 0 0 0 1 0 0]\n",
      "Train loss: 0.00119\n",
      "Train batch AUC-ROC: 0.93361 \n",
      "Valid true:      [0 0 1 1 0 0 0 1 0 0 0 0 0 0 1 1 0 0 0 0 1 1 0 0 1 1 0 0 1 0 0 0 0 0 0 0 1\n",
      " 1 0 0 1 1 0 1 0 0 0 0 0 0 0 1 0 0 0 0 0 0 0 1 0 0 0 0 1 0 0 0 0 0 0 0 0 0\n",
      " 0 0 0 0 0 0 0 1 0 0 0 0 0 1 0 0 1 0 0 0 0 0 1 1 0 1]\n",
      "Valid predicted: [0 1 1 1 0 0 0 1 0 0 1 0 1 1 1 0 1 1 0 0 1 0 0 0 1 1 0 0 0 0 0 1 1 0 0 0 0\n",
      " 1 0 0 0 1 1 1 0 0 0 0 0 0 0 1 0 0 0 0 1 0 0 0 0 0 1 0 1 0 0 0 0 0 1 0 0 1\n",
      " 1 0 0 0 1 0 1 1 1 1 1 0 1 0 0 0 0 0 0 1 0 0 1 0 0 1]\n",
      "Validation AUC-ROC:  0.93266\n",
      "\n",
      "Step 10000\n",
      "True: [1 0 1 0 0 0 1 0 0 0 0 0 0 0 0 0 0 1 0 1 0 0 0 0 0 1 0 0 0 0 1 1 0 0 0 0 1\n",
      " 0 0 0 1 1 0 0 0 0 0 0 1 1 0 0 0 0 0 0 0 1 0 0 0 0 0 0]\n",
      "Pred: [1 0 1 0 0 0 1 0 0 0 0 0 0 0 0 0 0 1 0 1 0 0 0 0 0 1 0 0 0 0 1 1 0 0 0 0 1\n",
      " 0 0 0 1 1 0 0 0 0 0 0 1 1 0 0 0 0 0 0 0 1 0 0 0 0 0 0]\n",
      "Train loss: 0.00094\n",
      "Train batch AUC-ROC: 0.93906 \n",
      "Valid true:      [0 1 1 0 0 0 1 0 0 0 0 0 0 1 1 0 0 0 0 1 1 0 0 1 1 0 0 1 0 0 0 0 0 0 0 1 1\n",
      " 0 0 1 1 0 1 0 0 0 0 0 0 0 1 0 0 0 0 0 0 0 1 0 0 0 0 1 0 0 0 0 0 0 0 0 0 0\n",
      " 0 0 0 0 0 0 1 0 0 0 0 0 1 0 0 1 0 0 0 0 0 1 1 0 1 0]\n",
      "Valid predicted: [1 1 1 0 0 0 1 0 0 1 0 1 1 1 0 1 1 0 0 1 0 0 0 1 1 0 0 0 0 0 1 1 0 0 0 0 1\n",
      " 0 0 0 1 1 1 0 0 0 0 0 0 0 1 0 0 0 0 1 0 0 0 0 0 1 0 1 0 0 0 0 0 1 0 0 1 1\n",
      " 0 0 0 1 0 1 0 1 1 1 0 1 0 0 0 0 0 0 1 0 0 1 0 0 1 0]\n",
      "Validation AUC-ROC:  0.93817\n",
      "Test predicted: [0 1 0 0 0 0 1 0 1 1 1 1 0 0 1 1 1 1 1 0 1 1 1 0 1 0 1 1 0 0 0 1 0 0 0 0 0\n",
      " 1 1 0 0 1 0 0 0 0 1 0 1 0 0 0 0 1 0 0 0 1 0 0 1 1 0 0 1 0 1 1 0 1 1 1 0 1\n",
      " 1 1 1 1 0 0 1 1 0 0 0 0 1 1 1 1 0 0 1 0 0 0 0 0 1 0]\n",
      "Test AUC-ROC:  0.93691\n",
      "TIME: 1:39:15.482560\n"
     ]
    }
   ],
   "source": [
    "t0 = datetime.datetime.now()\n",
    "losses = []\n",
    "train_aucs = []\n",
    "valid_aucs = []\n",
    "num_steps = 10001\n",
    "frequency = 1000\n",
    "mean_losses = []\n",
    "\n",
    "with tf.Session(graph=graph) as session:\n",
    "    tf.global_variables_initializer().run()\n",
    "    tf.local_variables_initializer().run()\n",
    "    #tf.initialize_all_variables().run()\n",
    "    print('Initialized')\n",
    "    mean_loss = 0.\n",
    "    \n",
    "    for step in range(num_steps):\n",
    "        batches, labels = train_batch_generator.next()\n",
    "        feed_dict = dict()\n",
    "        for i in range(comment_size):\n",
    "            feed_dict[tf_data[i]] = batches[i]\n",
    "        train_labels_ = np.asarray(labels).astype('float').reshape(-1,1)\n",
    "        feed_dict[tf_labels] = train_labels_\n",
    "        feed_dict[tf_keep_prob] = 1.\n",
    "        l, update, auc, predictions, _ = session.run([tf_loss, tf_update_oper, tf_auc_roc,\n",
    "                                                   tf_prediction, tf_optimizer],\n",
    "                                                  feed_dict=feed_dict)\n",
    "        mean_loss += l\n",
    "        losses.append(l)\n",
    "        train_aucs.append(auc)\n",
    "        if step % frequency == 0:\n",
    "            saver.save(session, './checkpoint_dir/wordLSTM', global_step=step)\n",
    "            mean_loss /= frequency\n",
    "            print ('\\nStep %d' % step)\n",
    "            print ('True:',np.asarray(labels).astype('int'))\n",
    "            print ('Pred:',predictions.astype('int').reshape(-1))\n",
    "            print ('Train loss: %.5f' % mean_loss)\n",
    "            print ('Train batch AUC-ROC: %.5f ' % auc)\n",
    "            mean_losses.append(mean_loss)\n",
    "            mean_loss = 0.\n",
    "            valid_predictions = []\n",
    "            valid_true = []\n",
    "            for _ in range(valid_size // batch_size):\n",
    "                valid_b, valid_lab = valid_batch_generator.next()\n",
    "                feed_dict = dict()\n",
    "                for i in range(comment_size):\n",
    "                    feed_dict[tf_data[i]] = valid_b[i]\n",
    "                feed_dict[tf_labels] = np.asarray(valid_lab).astype('float').reshape(-1,1)\n",
    "                feed_dict[tf_keep_prob] = 1.\n",
    "                valid_pred, valid_auc, valid_update = session.run([tf_prediction, tf_auc_roc, tf_update_oper], \n",
    "                                                                  feed_dict=feed_dict)\n",
    "                valid_true.append(valid_lab)\n",
    "                valid_predictions.append(valid_pred)\n",
    "            print('Valid true:     ', np.asarray(valid_true).astype('int').reshape(-1)[:100])\n",
    "            print('Valid predicted:', np.asarray(valid_predictions).astype('int').reshape(-1)[:100])\n",
    "            print('Validation AUC-ROC:  %.5f' % valid_auc)\n",
    "            valid_aucs.append(valid_auc)\n",
    "t1 = datetime.datetime.now()\n",
    "print ('TIME:', t1 - t0)"
   ]
  },
  {
   "cell_type": "code",
   "execution_count": 79,
   "metadata": {
    "collapsed": false,
    "scrolled": false
   },
   "outputs": [
    {
     "data": {
      "image/png": "[encoded data removed]",
      "text/plain": [
       "<matplotlib.figure.Figure at 0x2042c41ab00>"
      ]
     },
     "metadata": {},
     "output_type": "display_data"
    },
    {
     "data": {
      "image/png": "[encoded data removed]",
      "text/plain": [
       "<matplotlib.figure.Figure at 0x2047269b048>"
      ]
     },
     "metadata": {},
     "output_type": "display_data"
    },
    {
     "data": {
      "image/png": "[encoded data removed]",
      "text/plain": [
       "<matplotlib.figure.Figure at 0x2042c432ac8>"
      ]
     },
     "metadata": {},
     "output_type": "display_data"
    }
   ],
   "source": [
    "plot_results(losses[:], mean_losses[1:], train_aucs[1:], valid_aucs, frequency)"
   ]
  },
  {
   "cell_type": "markdown",
   "metadata": {
    "collapsed": true
   },
   "source": [
    "# Restore"
   ]
  },
  {
   "cell_type": "code",
   "execution_count": null,
   "metadata": {
    "collapsed": false
   },
   "outputs": [
    {
     "name": "stdout",
     "output_type": "stream",
     "text": [
      "INFO:tensorflow:Restoring parameters from /tmp/wordCNN\n"
     ]
    }
   ],
   "source": [
    "batch_size = test_size\n",
    "test_batch_generator = LabeledBatchGenerator(X_test.as_matrix(), batch_size, comment_size, y_test.as_matrix())\n",
    "\n",
    "with tf.Session(graph=graph) as session:\n",
    "    saver.restore(session, \"./checkpoint_dir/wordCNN\")\n",
    "    print(\"Model restored.\")\n",
    "    batches, labels = test_batch_generator.next()\n",
    "    feed_dict = dict()\n",
    "    for i in range(comment_size):\n",
    "        feed_dict[tf_data[i]] = batches[i]\n",
    "    train_labels_ = np.asarray(labels).astype('float').reshape(-1,1)\n",
    "    feed_dict[tf_labels] = train_labels_\n",
    "    feed_dict[tf_keep_prob] = 1.\n",
    "    l, update, auc, predictions, _ = session.run([tf_loss, tf_update_oper, tf_auc_roc,\n",
    "                                               tf_prediction, tf_optimizer],\n",
    "                                              feed_dict=feed_dict)"
   ]
  },
  {
   "cell_type": "code",
   "execution_count": null,
   "metadata": {
    "collapsed": true
   },
   "outputs": [],
   "source": []
  },
  {
   "cell_type": "code",
   "execution_count": null,
   "metadata": {
    "collapsed": true
   },
   "outputs": [],
   "source": []
  },
  {
   "cell_type": "code",
   "execution_count": null,
   "metadata": {
    "collapsed": true
   },
   "outputs": [],
   "source": []
  }
 ],
 "metadata": {
  "kernelspec": {
   "display_name": "python3.5",
   "language": "python",
   "name": "python3.5"
  },
  "language_info": {
   "codemirror_mode": {
    "name": "ipython",
    "version": 3
   },
   "file_extension": ".py",
   "mimetype": "text/x-python",
   "name": "python",
   "nbconvert_exporter": "python",
   "pygments_lexer": "ipython3",
   "version": "3.5.3"
  }
 },
 "nbformat": 4,
 "nbformat_minor": 0
}
