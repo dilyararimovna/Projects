{
 "cells": [
  {
   "cell_type": "markdown",
   "metadata": {},
   "source": [
    "### Libraries"
   ]
  },
  {
   "cell_type": "code",
   "execution_count": 11,
   "metadata": {
    "collapsed": true
   },
   "outputs": [],
   "source": [
    "import os\n",
    "import numpy as np\n",
    "import random\n",
    "import tensorflow as tf\n",
    "import matplotlib.pyplot as plt\n",
    "import datetime\n",
    "import pandas as pd\n",
    "import re\n",
    "import collections\n",
    "import string\n",
    "import math\n",
    "from tensorflow.contrib import learn\n",
    "import io\n",
    "%matplotlib inline"
   ]
  },
  {
   "cell_type": "markdown",
   "metadata": {},
   "source": [
    "### Read data"
   ]
  },
  {
   "cell_type": "code",
   "execution_count": 2,
   "metadata": {
    "collapsed": false
   },
   "outputs": [
    {
     "name": "stdout",
     "output_type": "stream",
     "text": [
      "Data size: 3947\n"
     ]
    },
    {
     "data": {
      "text/html": [
       "<div>\n",
       "<style>\n",
       "    .dataframe thead tr:only-child th {\n",
       "        text-align: right;\n",
       "    }\n",
       "\n",
       "    .dataframe thead th {\n",
       "        text-align: left;\n",
       "    }\n",
       "\n",
       "    .dataframe tbody tr th {\n",
       "        vertical-align: top;\n",
       "    }\n",
       "</style>\n",
       "<table border=\"1\" class=\"dataframe\">\n",
       "  <thead>\n",
       "    <tr style=\"text-align: right;\">\n",
       "      <th></th>\n",
       "      <th>Insult</th>\n",
       "      <th>Date</th>\n",
       "      <th>Comment</th>\n",
       "    </tr>\n",
       "  </thead>\n",
       "  <tbody>\n",
       "    <tr>\n",
       "      <th>0</th>\n",
       "      <td>1</td>\n",
       "      <td>20120618192155Z</td>\n",
       "      <td>\"You fuck your dad.\"</td>\n",
       "    </tr>\n",
       "    <tr>\n",
       "      <th>1</th>\n",
       "      <td>0</td>\n",
       "      <td>20120528192215Z</td>\n",
       "      <td>\"i really don't understand your point.\\xa0 It ...</td>\n",
       "    </tr>\n",
       "    <tr>\n",
       "      <th>2</th>\n",
       "      <td>0</td>\n",
       "      <td>NaN</td>\n",
       "      <td>\"A\\\\xc2\\\\xa0majority of Canadians can and has ...</td>\n",
       "    </tr>\n",
       "    <tr>\n",
       "      <th>3</th>\n",
       "      <td>0</td>\n",
       "      <td>NaN</td>\n",
       "      <td>\"listen if you dont wanna get married to a man...</td>\n",
       "    </tr>\n",
       "    <tr>\n",
       "      <th>4</th>\n",
       "      <td>0</td>\n",
       "      <td>20120619094753Z</td>\n",
       "      <td>\"C\\xe1c b\\u1ea1n xu\\u1ed1ng \\u0111\\u01b0\\u1edd...</td>\n",
       "    </tr>\n",
       "  </tbody>\n",
       "</table>\n",
       "</div>"
      ],
      "text/plain": [
       "   Insult             Date                                            Comment\n",
       "0       1  20120618192155Z                               \"You fuck your dad.\"\n",
       "1       0  20120528192215Z  \"i really don't understand your point.\\xa0 It ...\n",
       "2       0              NaN  \"A\\\\xc2\\\\xa0majority of Canadians can and has ...\n",
       "3       0              NaN  \"listen if you dont wanna get married to a man...\n",
       "4       0  20120619094753Z  \"C\\xe1c b\\u1ea1n xu\\u1ed1ng \\u0111\\u01b0\\u1edd..."
      ]
     },
     "execution_count": 2,
     "metadata": {},
     "output_type": "execute_result"
    }
   ],
   "source": [
    "filename = './train.csv'\n",
    "train_data = pd.read_csv(filename)\n",
    "print ('Data size:', len(train_data))\n",
    "train_data.head()"
   ]
  },
  {
   "cell_type": "code",
   "execution_count": 3,
   "metadata": {
    "collapsed": false
   },
   "outputs": [
    {
     "name": "stdout",
     "output_type": "stream",
     "text": [
      "Data size: 2647\n"
     ]
    },
    {
     "data": {
      "text/html": [
       "<div>\n",
       "<style>\n",
       "    .dataframe thead tr:only-child th {\n",
       "        text-align: right;\n",
       "    }\n",
       "\n",
       "    .dataframe thead th {\n",
       "        text-align: left;\n",
       "    }\n",
       "\n",
       "    .dataframe tbody tr th {\n",
       "        vertical-align: top;\n",
       "    }\n",
       "</style>\n",
       "<table border=\"1\" class=\"dataframe\">\n",
       "  <thead>\n",
       "    <tr style=\"text-align: right;\">\n",
       "      <th></th>\n",
       "      <th>Insult</th>\n",
       "      <th>Date</th>\n",
       "      <th>Comment</th>\n",
       "      <th>Usage</th>\n",
       "    </tr>\n",
       "  </thead>\n",
       "  <tbody>\n",
       "    <tr>\n",
       "      <th>0</th>\n",
       "      <td>0</td>\n",
       "      <td>NaN</td>\n",
       "      <td>\"THE DRUDGE REPORT\\\\n\\\\n\\\\n\\\\nYou won't see th...</td>\n",
       "      <td>PublicTest</td>\n",
       "    </tr>\n",
       "    <tr>\n",
       "      <th>1</th>\n",
       "      <td>0</td>\n",
       "      <td>20120618222256Z</td>\n",
       "      <td>\"@ian21\\xa0\"Roger Clemens is the fucking man, ...</td>\n",
       "      <td>PublicTest</td>\n",
       "    </tr>\n",
       "    <tr>\n",
       "      <th>2</th>\n",
       "      <td>1</td>\n",
       "      <td>20120618213617Z</td>\n",
       "      <td>\"Agree with Alan you are an extremest idiot.  ...</td>\n",
       "      <td>PublicTest</td>\n",
       "    </tr>\n",
       "    <tr>\n",
       "      <th>3</th>\n",
       "      <td>0</td>\n",
       "      <td>NaN</td>\n",
       "      <td>\"Really?\\\\n\\\\nI see Marc Lamont Hill on variou...</td>\n",
       "      <td>PrivateTest</td>\n",
       "    </tr>\n",
       "    <tr>\n",
       "      <th>4</th>\n",
       "      <td>0</td>\n",
       "      <td>20120620003825Z</td>\n",
       "      <td>\"Really suck isn't the word, when many of our ...</td>\n",
       "      <td>PrivateTest</td>\n",
       "    </tr>\n",
       "  </tbody>\n",
       "</table>\n",
       "</div>"
      ],
      "text/plain": [
       "   Insult             Date                                            Comment  \\\n",
       "0       0              NaN  \"THE DRUDGE REPORT\\\\n\\\\n\\\\n\\\\nYou won't see th...   \n",
       "1       0  20120618222256Z  \"@ian21\\xa0\"Roger Clemens is the fucking man, ...   \n",
       "2       1  20120618213617Z  \"Agree with Alan you are an extremest idiot.  ...   \n",
       "3       0              NaN  \"Really?\\\\n\\\\nI see Marc Lamont Hill on variou...   \n",
       "4       0  20120620003825Z  \"Really suck isn't the word, when many of our ...   \n",
       "\n",
       "         Usage  \n",
       "0   PublicTest  \n",
       "1   PublicTest  \n",
       "2   PublicTest  \n",
       "3  PrivateTest  \n",
       "4  PrivateTest  "
      ]
     },
     "execution_count": 3,
     "metadata": {},
     "output_type": "execute_result"
    }
   ],
   "source": [
    "filename = './test_with_solutions.csv'\n",
    "valid_data = pd.read_csv(filename)\n",
    "print ('Data size:', len(valid_data))\n",
    "valid_data.head()"
   ]
  },
  {
   "cell_type": "markdown",
   "metadata": {},
   "source": [
    "### Data preprocessing"
   ]
  },
  {
   "cell_type": "code",
   "execution_count": 4,
   "metadata": {
    "collapsed": true
   },
   "outputs": [],
   "source": [
    "def data_preprocessing(data):\n",
    "    max_sym_len = 0\n",
    "    max_word_len = 0\n",
    "    lens_in_words = []\n",
    "\n",
    "    for i, comment in enumerate(data['Comment']):\n",
    "        data.iloc[i,2] = data.iloc[i,2].lower()\n",
    "        data.iloc[i,2] = re.sub('n\\'t', ' not', data.iloc[i,2])\n",
    "        data.iloc[i,2] = re.sub('\\'m', ' ', data.iloc[i,2])\n",
    "        data.iloc[i,2] = re.sub('\\'s', ' ', data.iloc[i,2])\n",
    "        data.iloc[i,2] = re.sub('\\'re', ' ', data.iloc[i,2])\n",
    "        data.iloc[i,2] = re.sub('\\'ve', ' ', data.iloc[i,2])\n",
    "        data.iloc[i,2] = re.sub('\\'d', ' ', data.iloc[i,2])\n",
    "        data.iloc[i,2] = re.sub(' im ', ' i', data.iloc[i,2])\n",
    "        data.iloc[i,2] = re.sub(' ur ', ' you ', data.iloc[i,2])\n",
    "        data.iloc[i,2] = re.sub('\\? ', ' ', data.iloc[i,2])\n",
    "        data.iloc[i,2] = re.sub('[!?]+', ' mysignssymbol ', data.iloc[i,2])\n",
    "        data.iloc[i,2] = re.sub(r'href=[\\'\"]?([^\\'\" >]+)', ' ', data.iloc[i,2])\n",
    "        data.iloc[i,2] = re.sub('[^a-z]+', ' ', data.iloc[i,2]) # replace everything not lowercase literals with space\n",
    "        data.iloc[i,2] = re.sub('\\s+', ' ',  data.iloc[i,2] ).strip() #replace multiple spaces\n",
    "        for letter in string.ascii_lowercase: #replace multiple letters (3 and more) \n",
    "            data.iloc[i,2] = re.sub(letter * 3 + '+', letter,  data.iloc[i,2] ).strip() \n",
    "        data.iloc[i,2] = re.sub('mysignssymbol', '<SIGNS>', data.iloc[i,2])\n",
    "        data.iloc[i,2] = re.sub('\\s+', ' ',  data.iloc[i,2] ).strip() #replace multiple spaces\n",
    "        if max_sym_len < len(comment):\n",
    "            max_sym_len = len(comment)\n",
    "        if max_word_len < len(comment.split(' ')):\n",
    "            max_word_len = len(comment.split(' '))\n",
    "        lens_in_words.append(len(comment.split(' ')))\n",
    "        \n",
    "    print ('Max comment length in symbols:', max_sym_len)\n",
    "    print ('Max comment length in words:  ', max_word_len)\n",
    "    plt.plot(np.arange(len(lens_in_words)), np.asarray(lens_in_words))\n",
    "    plt.xlabel('Comment')\n",
    "    plt.ylabel('Length in words')\n",
    "    return data"
   ]
  },
  {
   "cell_type": "code",
   "execution_count": 5,
   "metadata": {
    "collapsed": false,
    "scrolled": true
   },
   "outputs": [
    {
     "name": "stdout",
     "output_type": "stream",
     "text": [
      "Max comment length in symbols: 17805\n",
      "Max comment length in words:   2407\n",
      "Max comment length in symbols: 20030\n",
      "Max comment length in words:   1419\n"
     ]
    },
    {
     "data": {
      "image/png": "[encoded data removed]",
      "text/plain": [
       "<matplotlib.figure.Figure at 0x1cf51074ba8>"
      ]
     },
     "metadata": {},
     "output_type": "display_data"
    }
   ],
   "source": [
    "train_data = data_preprocessing(train_data)\n",
    "valid_data = data_preprocessing(valid_data)\n",
    "valid_size = len(valid_data)\n",
    "train_size = len(train_data)\n",
    "\n",
    "X_train = train_data['Comment']\n",
    "y_train = train_data['Insult']\n",
    "X_valid = valid_data['Comment']\n",
    "y_valid = valid_data['Insult']"
   ]
  },
  {
   "cell_type": "markdown",
   "metadata": {},
   "source": [
    "### Load pretrained vocabulary"
   ]
  },
  {
   "cell_type": "code",
   "execution_count": 24,
   "metadata": {
    "collapsed": false,
    "scrolled": true
   },
   "outputs": [
    {
     "name": "stdout",
     "output_type": "stream",
     "text": [
      "Loaded GloVe!\n",
      "Vocabulary size: 400000\n",
      "Embedding size:  50\n"
     ]
    }
   ],
   "source": [
    "def loadGloVe(filename):\n",
    "    vocab = []\n",
    "    embd = []\n",
    "    file = io.open(filename,'r' , encoding='utf-8')\n",
    "    for line in file.readlines():\n",
    "        row = line.strip().split(' ')\n",
    "        vocab.append(row[0])\n",
    "        embd.append(row[1:])\n",
    "    print('Loaded GloVe!')\n",
    "    file.close()\n",
    "    return vocab,embd\n",
    "\n",
    "\n",
    "vocabulary, embedding_ = loadGloVe('./glove.6B/glove.6B.50d.txt')\n",
    "vocabulary_size = len(vocabulary)\n",
    "embedding_size = len(embedding_[0])\n",
    "embedding = np.asarray(embedding_)\n",
    "\n",
    "print ('Vocabulary size:', vocabulary_size)\n",
    "print ('Embedding size: ', embedding_size)"
   ]
  },
  {
   "cell_type": "markdown",
   "metadata": {},
   "source": [
    "### Generation of batches"
   ]
  },
  {
   "cell_type": "code",
   "execution_count": 25,
   "metadata": {
    "collapsed": false
   },
   "outputs": [],
   "source": [
    "class LabeledBatchGenerator(object):\n",
    "    def __init__(self, comments, batch_size, comment_size, labels):\n",
    "        self._comments = comments\n",
    "        self._num_comments = len(comments)\n",
    "        self._batch_size = batch_size\n",
    "        self._comment_size = comment_size\n",
    "        self._labels = labels\n",
    "        segment = self._num_comments // batch_size\n",
    "        self._cursor = [offset * segment for offset in range(batch_size)]\n",
    "        \n",
    "    def _next_batch(self, step):\n",
    "        batch = np.zeros(shape=(self._batch_size,1), dtype=np.int)\n",
    "        for b in range(self._batch_size):\n",
    "            batch[b,0] = self._comments[self._cursor[b]][step]\n",
    "            if step == self._comment_size - 1:\n",
    "                self._cursor[b] = (self._cursor[b] + 1) % self._num_comments\n",
    "        return batch\n",
    "    \n",
    "    def next(self):\n",
    "        batches = []\n",
    "        batches_labels = [self._labels[self._cursor[b]] for b in range(self._batch_size)]\n",
    "        for step in range(0, self._comment_size):\n",
    "            batches.append(self._next_batch(step))\n",
    "        return batches, batches_labels\n"
   ]
  },
  {
   "cell_type": "code",
   "execution_count": 26,
   "metadata": {
    "collapsed": false,
    "scrolled": false
   },
   "outputs": [],
   "source": [
    "comment_size = 100\n",
    "batch_size = 64\n",
    "valid_batch_size = 1\n",
    "\n",
    "vocab_processor = learn.preprocessing.VocabularyProcessor(comment_size)\n",
    "pretrain = vocab_processor.fit(vocabulary)\n",
    "\n",
    "X_train_ = np.array(list(vocab_processor.transform(X_train.as_matrix())))\n",
    "X_valid_ = np.array(list(vocab_processor.transform(X_valid.as_matrix())))\n",
    "\n",
    "train_batch_generator = LabeledBatchGenerator(X_train_, batch_size, comment_size, y_train.as_matrix())\n",
    "valid_batch_generator = LabeledBatchGenerator(X_valid_, valid_batch_size, comment_size, y_valid.as_matrix())"
   ]
  },
  {
   "cell_type": "code",
   "execution_count": 27,
   "metadata": {
    "collapsed": true
   },
   "outputs": [],
   "source": [
    "def plot_results(losses_, mean_losses_, train_aucs_, valid_aucs_, frequency):\n",
    "    plt.plot(losses_)\n",
    "    plt.title('Losses')\n",
    "    plt.xlabel('Step')\n",
    "    plt.show()\n",
    "\n",
    "    plt.plot(frequency * np.arange(1,len(mean_losses_)+1), mean_losses_)\n",
    "    plt.title('MeanLosses')\n",
    "    plt.xlabel('Step')\n",
    "    plt.show()\n",
    "\n",
    "    plt.plot(train_aucs_, label='Train AUC-ROC')\n",
    "    plt.plot(frequency * np.arange(1,len(valid_aucs_)+1), valid_aucs_, label='Valid AUC-ROC')\n",
    "    plt.xlabel('Step')\n",
    "    plt.title('AUC-ROC')\n",
    "    plt.legend()\n",
    "    plt.show()"
   ]
  },
  {
   "cell_type": "markdown",
   "metadata": {},
   "source": [
    "### Tensorflow graph"
   ]
  },
  {
   "cell_type": "code",
   "execution_count": 28,
   "metadata": {
    "collapsed": false
   },
   "outputs": [
    {
     "name": "stdout",
     "output_type": "stream",
     "text": [
      "(?, 100, 177)\n",
      "Graph is ready!\n"
     ]
    }
   ],
   "source": [
    "patch_size = [3,4,5]\n",
    "num_filters = 128\n",
    "\n",
    "graph = tf.Graph()\n",
    "with graph.as_default():\n",
    "    tf_W = tf.Variable(tf.constant(0.0, shape=[vocabulary_size, embedding_size]), trainable=False, name=\"W\")\n",
    "    tf_embedding_placeholder = tf.placeholder(tf.float32, [vocabulary_size, embedding_size])\n",
    "    tf_embedding_init = tf_W.assign(tf_embedding_placeholder)\n",
    "    \n",
    "    tf_keep_prob = tf.placeholder(tf.float32)\n",
    "    tf_data = list()\n",
    "    tf_labels = tf.placeholder(tf.float32, shape=[None,1])\n",
    "    for _ in range(comment_size):\n",
    "        tf_data.append(tf.placeholder(tf.int32, shape=[None, 1]))  \n",
    "    tf_inputs = tf.concat(tf_data[:comment_size], axis=1)    \n",
    "    tf_embedded_inputs = tf.nn.embedding_lookup(tf_W, tf_inputs) # batch_size, comment_size, embed_size\n",
    "\n",
    "    tf_w0 = tf.Variable(tf.truncated_normal(\n",
    "            [patch_size[0], embedding_size, num_filters], stddev=0.1))\n",
    "    tf_w1 = tf.Variable(tf.truncated_normal(\n",
    "            [patch_size[1], num_filters, num_filters], stddev=0.1))\n",
    "    \n",
    "    def multi_layer_cnn(data):\n",
    "        output = []\n",
    "        conv = tf.nn.conv1d(data, tf_w0, 1, padding='SAME')\n",
    "        conv = tf.nn.relu(conv) \n",
    "        output.append(conv) #3d\n",
    "        \n",
    "        pool = tf.nn.max_pool(tf.expand_dims(data,-1), [1, 1, 2, 1], [1, 1, 1, 1], 'VALID')\n",
    "        pool = tf.nn.relu(pool)\n",
    "        pool = tf.squeeze(pool, axis=3)\n",
    "        output.append(pool)\n",
    "        output = tf.concat(output, axis=2)\n",
    "        print (output.shape)\n",
    "        #hidden = tf.squeeze(hidden,axis=3)\n",
    "        #print (hidden.shape)\n",
    "        #conv = tf.nn.conv1d(hidden, tf_w1, 1, padding='SAME')\n",
    "        #hidden = tf.sigmoid(conv)\n",
    "        #hidden = tf.expand_dims(hidden, -1)\n",
    "        #pool = tf.nn.max_pool(hidden, [1, 2, 1, 1], [1, 1, 1, 1], 'VALID')\n",
    "        #hidden = tf.nn.relu(pool)\n",
    "        \n",
    "        shape = output.get_shape().as_list()\n",
    "        reshape = tf.reshape(output, [-1, shape[1] * shape[2]])\n",
    "        return tf.layers.dense(inputs=reshape, units=1, activation=None)\n",
    "\n",
    "    tf_logits = tf.nn.dropout(multi_layer_cnn(tf_embedded_inputs), tf_keep_prob)\n",
    "    #tf_logits = multi_layer_cnn(tf_embedded_inputs)\n",
    "    tf_loss = (tf.reduce_mean(tf.nn.sigmoid_cross_entropy_with_logits(logits=tf_logits, labels=tf_labels)) )\n",
    "    tf_global_step = tf.Variable(0, trainable=False)\n",
    "    tf_learning_rate = tf.train.exponential_decay(0.1, tf_global_step,\n",
    "                                               1000, 0.9, staircase=True)\n",
    "    #optimizer = tf.train.GradientDescentOptimizer(learning_rate)\n",
    "    #train_op = optimizer.minimize(loss, global_step=global_step)\n",
    "    tf_optimizer = tf.train.AdamOptimizer(tf_learning_rate)\n",
    "    tf_grads = tf_optimizer.compute_gradients(tf_loss)\n",
    "    tf_op = tf_optimizer.apply_gradients(tf_grads, global_step=tf_global_step)\n",
    "\n",
    "    tf_prediction = tf.round(tf.sigmoid(tf_logits))\n",
    "    tf_auc_roc, tf_update_oper = tf.metrics.auc(tf_labels, tf_prediction)\n",
    "    \n",
    "    print('Graph is ready!')"
   ]
  },
  {
   "cell_type": "code",
   "execution_count": 29,
   "metadata": {
    "collapsed": false,
    "scrolled": false
   },
   "outputs": [
    {
     "name": "stdout",
     "output_type": "stream",
     "text": [
      "Initialized\n"
     ]
    },
    {
     "ename": "KeyboardInterrupt",
     "evalue": "",
     "output_type": "error",
     "traceback": [
      "\u001b[1;31m---------------------------------------------------------------------------\u001b[0m",
      "\u001b[1;31mKeyboardInterrupt\u001b[0m                         Traceback (most recent call last)",
      "\u001b[1;32m<ipython-input-29-44556a48f806>\u001b[0m in \u001b[0;36m<module>\u001b[1;34m()\u001b[0m\n\u001b[0;32m     24\u001b[0m         l, update, auc, predictions, _ = session.run([tf_loss, tf_update_oper, tf_auc_roc,\n\u001b[0;32m     25\u001b[0m                                                    tf_prediction, tf_op],\n\u001b[1;32m---> 26\u001b[1;33m                                                   feed_dict=feed_dict)\n\u001b[0m\u001b[0;32m     27\u001b[0m         \u001b[0mmean_loss\u001b[0m \u001b[1;33m+=\u001b[0m \u001b[0ml\u001b[0m\u001b[1;33m\u001b[0m\u001b[0m\n\u001b[0;32m     28\u001b[0m         \u001b[0mlosses\u001b[0m\u001b[1;33m.\u001b[0m\u001b[0mappend\u001b[0m\u001b[1;33m(\u001b[0m\u001b[0ml\u001b[0m\u001b[1;33m)\u001b[0m\u001b[1;33m\u001b[0m\u001b[0m\n",
      "\u001b[1;32m~\\AppData\\Local\\Continuum\\Anaconda2\\envs\\py35\\lib\\site-packages\\tensorflow\\python\\client\\session.py\u001b[0m in \u001b[0;36mrun\u001b[1;34m(self, fetches, feed_dict, options, run_metadata)\u001b[0m\n\u001b[0;32m    776\u001b[0m     \u001b[1;32mtry\u001b[0m\u001b[1;33m:\u001b[0m\u001b[1;33m\u001b[0m\u001b[0m\n\u001b[0;32m    777\u001b[0m       result = self._run(None, fetches, feed_dict, options_ptr,\n\u001b[1;32m--> 778\u001b[1;33m                          run_metadata_ptr)\n\u001b[0m\u001b[0;32m    779\u001b[0m       \u001b[1;32mif\u001b[0m \u001b[0mrun_metadata\u001b[0m\u001b[1;33m:\u001b[0m\u001b[1;33m\u001b[0m\u001b[0m\n\u001b[0;32m    780\u001b[0m         \u001b[0mproto_data\u001b[0m \u001b[1;33m=\u001b[0m \u001b[0mtf_session\u001b[0m\u001b[1;33m.\u001b[0m\u001b[0mTF_GetBuffer\u001b[0m\u001b[1;33m(\u001b[0m\u001b[0mrun_metadata_ptr\u001b[0m\u001b[1;33m)\u001b[0m\u001b[1;33m\u001b[0m\u001b[0m\n",
      "\u001b[1;32m~\\AppData\\Local\\Continuum\\Anaconda2\\envs\\py35\\lib\\site-packages\\tensorflow\\python\\client\\session.py\u001b[0m in \u001b[0;36m_run\u001b[1;34m(self, handle, fetches, feed_dict, options, run_metadata)\u001b[0m\n\u001b[0;32m    952\u001b[0m             \u001b[0mnp_val\u001b[0m \u001b[1;33m=\u001b[0m \u001b[0msubfeed_val\u001b[0m\u001b[1;33m.\u001b[0m\u001b[0mto_numpy_array\u001b[0m\u001b[1;33m(\u001b[0m\u001b[1;33m)\u001b[0m\u001b[1;33m\u001b[0m\u001b[0m\n\u001b[0;32m    953\u001b[0m           \u001b[1;32melse\u001b[0m\u001b[1;33m:\u001b[0m\u001b[1;33m\u001b[0m\u001b[0m\n\u001b[1;32m--> 954\u001b[1;33m             \u001b[0mnp_val\u001b[0m \u001b[1;33m=\u001b[0m \u001b[0mnp\u001b[0m\u001b[1;33m.\u001b[0m\u001b[0masarray\u001b[0m\u001b[1;33m(\u001b[0m\u001b[0msubfeed_val\u001b[0m\u001b[1;33m,\u001b[0m \u001b[0mdtype\u001b[0m\u001b[1;33m=\u001b[0m\u001b[0msubfeed_dtype\u001b[0m\u001b[1;33m)\u001b[0m\u001b[1;33m\u001b[0m\u001b[0m\n\u001b[0m\u001b[0;32m    955\u001b[0m \u001b[1;33m\u001b[0m\u001b[0m\n\u001b[0;32m    956\u001b[0m           if (not is_tensor_handle_feed and\n",
      "\u001b[1;31mKeyboardInterrupt\u001b[0m: "
     ]
    }
   ],
   "source": [
    "t0 = datetime.datetime.now()\n",
    "losses = []\n",
    "train_aucs = []\n",
    "valid_aucs = []\n",
    "num_steps = 1001\n",
    "frequency = 100\n",
    "mean_losses = []\n",
    "\n",
    "with tf.Session(graph=graph) as session:\n",
    "    tf.global_variables_initializer().run()\n",
    "    tf.local_variables_initializer().run()\n",
    "    print('Initialized')\n",
    "    mean_loss = 0.\n",
    "    \n",
    "    for step in range(num_steps):\n",
    "        batches, labels = train_batch_generator.next()\n",
    "        feed_dict = dict()\n",
    "        for i in range(comment_size):\n",
    "            feed_dict[tf_data[i]] = batches[i]\n",
    "        train_labels_ = np.asarray(labels).astype('float').reshape(-1,1)\n",
    "        feed_dict[tf_labels] = train_labels_\n",
    "        feed_dict[tf_keep_prob] = 1.\n",
    "        feed_dict[tf_embedding_placeholder] = embedding\n",
    "        l, update, auc, predictions, _ = session.run([tf_loss, tf_update_oper, tf_auc_roc,\n",
    "                                                   tf_prediction, tf_op],\n",
    "                                                  feed_dict=feed_dict)\n",
    "        mean_loss += l\n",
    "        losses.append(l)\n",
    "        train_aucs.append(auc)\n",
    "        if step % frequency == 0 and step > 0:\n",
    "            mean_loss /= frequency\n",
    "            print ('\\nStep %d' % step)\n",
    "            print ('True:',np.asarray(labels).astype('int'))\n",
    "            print ('Pred:',predictions.astype('int').reshape(-1))\n",
    "            print ('Train loss: %.5f' % mean_loss)\n",
    "            print ('Train batch AUC-ROC: %.5f ' % auc)\n",
    "            mean_losses.append(mean_loss)\n",
    "            mean_loss = 0.\n",
    "            valid_predictions = []\n",
    "            valid_true = []\n",
    "            for _ in range(valid_size):\n",
    "                valid_b, valid_lab = valid_batch_generator.next()\n",
    "                feed_dict = dict()\n",
    "                for i in range(comment_size):\n",
    "                    feed_dict[tf_data[i]] = valid_b[i]\n",
    "                feed_dict[tf_labels] = np.asarray(valid_lab).astype('float').reshape(-1,1)\n",
    "                feed_dict[tf_keep_prob] = 1.\n",
    "                feed_dict[tf_embedding_placeholder] = embedding\n",
    "                valid_pred, valid_auc, valid_update = session.run([tf_prediction, tf_auc_roc, tf_update_oper], \n",
    "                                                                  feed_dict=feed_dict)\n",
    "                valid_true.append(valid_lab[0])\n",
    "                valid_predictions.append(valid_pred[0])\n",
    "            print('Valid true:     ', np.asarray(valid_true)[:100])\n",
    "            print('Valid predicted:', np.asarray(valid_predictions).astype('int').reshape(-1)[:100])\n",
    "            print('Validation AUC-ROC:  %.5f' % valid_auc)\n",
    "            valid_aucs.append(valid_auc)\n",
    "t1 = datetime.datetime.now()\n",
    "print ('TIME:', t1 - t0)"
   ]
  },
  {
   "cell_type": "code",
   "execution_count": 30,
   "metadata": {
    "collapsed": false
   },
   "outputs": [
    {
     "data": {
      "image/png": "[encoded data removed]",
      "text/plain": [
       "<matplotlib.figure.Figure at 0x1cfb53e67f0>"
      ]
     },
     "metadata": {},
     "output_type": "display_data"
    },
    {
     "data": {
      "image/png": "[encoded data removed]",
      "text/plain": [
       "<matplotlib.figure.Figure at 0x1cf5153dd30>"
      ]
     },
     "metadata": {},
     "output_type": "display_data"
    },
    {
     "data": {
      "image/png": "[encoded data removed]",
      "text/plain": [
       "<matplotlib.figure.Figure at 0x1cf5157e160>"
      ]
     },
     "metadata": {},
     "output_type": "display_data"
    }
   ],
   "source": [
    "plot_results(losses[20:], mean_losses, train_aucs[1:], valid_aucs, frequency)"
   ]
  },
  {
   "cell_type": "markdown",
   "metadata": {
    "collapsed": true
   },
   "source": [
    "# Testing"
   ]
  },
  {
   "cell_type": "markdown",
   "metadata": {},
   "source": [
    "### Read data"
   ]
  },
  {
   "cell_type": "code",
   "execution_count": null,
   "metadata": {
    "collapsed": false
   },
   "outputs": [],
   "source": [
    "filename = './test.csv'\n",
    "test_data = pd.read_csv(filename)\n",
    "print ('Data size:', len(test_data))\n",
    "test_data.head()"
   ]
  },
  {
   "cell_type": "code",
   "execution_count": null,
   "metadata": {
    "collapsed": false
   },
   "outputs": [],
   "source": [
    "test_data = data_preprocessing(test_data)\n",
    "test_size = len(test_data)\n",
    "\n",
    "X_test = test_data['Comment']"
   ]
  },
  {
   "cell_type": "code",
   "execution_count": null,
   "metadata": {
    "collapsed": true
   },
   "outputs": [],
   "source": []
  }
 ],
 "metadata": {
  "kernelspec": {
   "display_name": "python3.5",
   "language": "python",
   "name": "python3.5"
  },
  "language_info": {
   "codemirror_mode": {
    "name": "ipython",
    "version": 3
   },
   "file_extension": ".py",
   "mimetype": "text/x-python",
   "name": "python",
   "nbconvert_exporter": "python",
   "pygments_lexer": "ipython3",
   "version": "3.5.3"
  }
 },
 "nbformat": 4,
 "nbformat_minor": 0
}
