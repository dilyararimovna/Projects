{
 "cells": [
  {
   "cell_type": "markdown",
   "metadata": {},
   "source": [
    "### Libraries"
   ]
  },
  {
   "cell_type": "code",
   "execution_count": 1,
   "metadata": {
    "collapsed": true
   },
   "outputs": [],
   "source": [
    "import fasttext\n",
    "import numpy as np\n",
    "from sklearn.metrics import roc_auc_score\n",
    "import pandas as pd"
   ]
  },
  {
   "cell_type": "markdown",
   "metadata": {},
   "source": [
    "### Run fasttext training on preprocessed data"
   ]
  },
  {
   "cell_type": "code",
   "execution_count": 2,
   "metadata": {
    "collapsed": true
   },
   "outputs": [],
   "source": [
    "cls = fasttext.supervised(\"./train.txt\", \"./model\")"
   ]
  },
  {
   "cell_type": "markdown",
   "metadata": {},
   "source": [
    "### Try to predict labels and predict probabilities"
   ]
  },
  {
   "cell_type": "code",
   "execution_count": 3,
   "metadata": {
    "collapsed": false,
    "scrolled": true
   },
   "outputs": [
    {
     "name": "stdout",
     "output_type": "stream",
     "text": [
      "[[u'1'], [u'0']]\n",
      "[[(u'1', 0.966797)], [(u'0', 0.722656)]]\n"
     ]
    }
   ],
   "source": [
    "texts = ['fuck you', 'we are fucking amazing guys']\n",
    "labels = cls.predict(texts)\n",
    "print (labels)\n",
    "\n",
    "# or with the probability\n",
    "labels = cls.predict_proba(texts)\n",
    "print (labels)"
   ]
  },
  {
   "cell_type": "markdown",
   "metadata": {},
   "source": [
    "### Run fasttext on validation preprocessed data tuning parameters"
   ]
  },
  {
   "cell_type": "code",
   "execution_count": 4,
   "metadata": {
    "collapsed": false,
    "scrolled": true
   },
   "outputs": [
    {
     "name": "stdout",
     "output_type": "stream",
     "text": [
      "Learning rate = 0.010000, Number of epochs = 10\n",
      "ROC_AUC_SCORE: 0.528721562754\n",
      "Learning rate = 0.010000, Number of epochs = 20\n",
      "ROC_AUC_SCORE: 0.667958278501\n",
      "Learning rate = 0.010000, Number of epochs = 50\n",
      "ROC_AUC_SCORE: 0.741622615983\n",
      "Learning rate = 0.010000, Number of epochs = 100\n",
      "ROC_AUC_SCORE: 0.761409237868\n",
      "Learning rate = 0.100000, Number of epochs = 10\n",
      "ROC_AUC_SCORE: 0.759894972536\n",
      "Learning rate = 0.100000, Number of epochs = 20\n",
      "ROC_AUC_SCORE: 0.767671967518\n",
      "Learning rate = 0.100000, Number of epochs = 50\n",
      "ROC_AUC_SCORE: 0.766396602374\n",
      "Learning rate = 0.100000, Number of epochs = 100\n",
      "ROC_AUC_SCORE: 0.761719401945\n",
      "Learning rate = 1.000000, Number of epochs = 10\n",
      "ROC_AUC_SCORE: 0.755083367673\n",
      "Learning rate = 1.000000, Number of epochs = 20\n",
      "ROC_AUC_SCORE: 0.764047478735\n",
      "Learning rate = 1.000000, Number of epochs = 50\n",
      "ROC_AUC_SCORE: 0.759277967569\n",
      "Learning rate = 1.000000, Number of epochs = 100\n",
      "ROC_AUC_SCORE: 0.761836821202\n"
     ]
    }
   ],
   "source": [
    "for lr_ in [0.01, 0.1, 1.]:\n",
    "    for epoch_ in [10, 20, 50, 100]:\n",
    "        print ('Learning rate = %f, Number of epochs = %d' % (lr_, epoch_))\n",
    "        cls = fasttext.supervised(\"./train.txt\", \"./model\", lr=lr_, epoch=epoch_, loss='softmax')\n",
    "\n",
    "        labels = []\n",
    "        true_labels = []\n",
    "        with open('./valid.txt', 'r') as f:\n",
    "            for line in f:\n",
    "                true_labels.append(int(line[9]))\n",
    "                labels.append(cls.predict([line[11:]]))\n",
    "\n",
    "        labels_ = np.concatenate(labels)\n",
    "        labels_ = np.concatenate(labels_)\n",
    "        labels = np.asarray(labels_).astype('int')\n",
    "        true_labels = np.asarray(true_labels)\n",
    "        print 'ROC_AUC_SCORE:',roc_auc_score(true_labels, labels)"
   ]
  },
  {
   "cell_type": "markdown",
   "metadata": {},
   "source": [
    "### Run fasttext on test preprocessed data for the best parameters"
   ]
  },
  {
   "cell_type": "code",
   "execution_count": 7,
   "metadata": {
    "collapsed": false
   },
   "outputs": [
    {
     "name": "stdout",
     "output_type": "stream",
     "text": [
      " ROC_AUC_SCORE: 0.707716935837\n"
     ]
    }
   ],
   "source": [
    "cls = fasttext.supervised(\"./train.txt\", \"./model\", lr=0.1, epoch=20, loss='softmax')\n",
    "\n",
    "labels = []\n",
    "true_labels = []\n",
    "\n",
    "with open('./test.txt', 'r') as f:\n",
    "    for line in f:\n",
    "        true_labels.append(int(line[9]))\n",
    "        labels.append(cls.predict([line[:-1]]))\n",
    "\n",
    "labels_ = np.concatenate(labels)\n",
    "labels_ = np.concatenate(labels_)\n",
    "test_labels = np.asarray(labels_).astype('int')\n",
    "true_labels = np.asarray(true_labels)\n",
    "print 'ROC_AUC_SCORE:',roc_auc_score(true_labels, test_labels)"
   ]
  },
  {
   "cell_type": "code",
   "execution_count": null,
   "metadata": {
    "collapsed": true
   },
   "outputs": [],
   "source": []
  }
 ],
 "metadata": {
  "kernelspec": {
   "display_name": "Python 2",
   "language": "python",
   "name": "python2"
  },
  "language_info": {
   "codemirror_mode": {
    "name": "ipython",
    "version": 2
   },
   "file_extension": ".py",
   "mimetype": "text/x-python",
   "name": "python",
   "nbconvert_exporter": "python",
   "pygments_lexer": "ipython2",
   "version": "2.7.13"
  }
 },
 "nbformat": 4,
 "nbformat_minor": 0
}
